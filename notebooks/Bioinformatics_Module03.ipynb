{
  "nbformat": 4,
  "nbformat_minor": 0,
  "metadata": {
    "colab": {
      "provenance": [],
      "authorship_tag": "ABX9TyMB8tWxP82oR8BdwX3DtA6A",
      "include_colab_link": true
    },
    "kernelspec": {
      "name": "python3",
      "display_name": "Python 3"
    },
    "language_info": {
      "name": "python"
    }
  },
  "cells": [
    {
      "cell_type": "markdown",
      "metadata": {
        "id": "view-in-github",
        "colab_type": "text"
      },
      "source": [
        "<a href=\"https://colab.research.google.com/github/adeshpande2002/bioinformatics-rosalind/blob/main/notebooks/Bioinformatics_Module03.ipynb\" target=\"_parent\"><img src=\"https://colab.research.google.com/assets/colab-badge.svg\" alt=\"Open In Colab\"/></a>"
      ]
    },
    {
      "cell_type": "code",
      "execution_count": null,
      "metadata": {
        "id": "IWRsMflm1P_w",
        "colab": {
          "base_uri": "https://localhost:8080/"
        },
        "outputId": "54af7c72-4525-46e8-9f53-83a6a0042ad9"
      },
      "outputs": [
        {
          "output_type": "stream",
          "name": "stdout",
          "text": [
            "hello world\n"
          ]
        }
      ],
      "source": [
        "print (\"hello world\")"
      ]
    },
    {
      "cell_type": "code",
      "source": [
        "x=5"
      ],
      "metadata": {
        "id": "pN1PPUofh9fu"
      },
      "execution_count": null,
      "outputs": []
    },
    {
      "cell_type": "code",
      "source": [
        "!pip install biopython"
      ],
      "metadata": {
        "colab": {
          "base_uri": "https://localhost:8080/"
        },
        "id": "VjXtEyUFiX48",
        "outputId": "474abeed-3d7f-4257-d63d-dd587b6fdf26"
      },
      "execution_count": null,
      "outputs": [
        {
          "output_type": "stream",
          "name": "stdout",
          "text": [
            "Requirement already satisfied: biopython in /usr/local/lib/python3.12/dist-packages (1.85)\n",
            "Requirement already satisfied: numpy in /usr/local/lib/python3.12/dist-packages (from biopython) (2.0.2)\n"
          ]
        }
      ]
    },
    {
      "cell_type": "markdown",
      "source": [
        " **P6. input() – user input**"
      ],
      "metadata": {
        "id": "73RQL_5cmOix"
      }
    },
    {
      "cell_type": "markdown",
      "source": [
        "**P6.1**"
      ],
      "metadata": {
        "id": "nqkYjdimmVxz"
      }
    },
    {
      "cell_type": "code",
      "metadata": {
        "colab": {
          "base_uri": "https://localhost:8080/"
        },
        "id": "cde49683",
        "outputId": "89ad5d99-b54b-422e-c057-b1d4a6a59a51"
      },
      "source": [
        "name = input(\"Enter your name: \")\n",
        "print(\"Hello\", name)"
      ],
      "execution_count": null,
      "outputs": [
        {
          "output_type": "stream",
          "name": "stdout",
          "text": [
            "Enter your name: AASHAY\n",
            "Hello AASHAY\n"
          ]
        }
      ]
    },
    {
      "cell_type": "markdown",
      "source": [
        "**P6.2**"
      ],
      "metadata": {
        "id": "CQDsDoS-mbKE"
      }
    },
    {
      "cell_type": "code",
      "source": [
        "a = float(input(\"Enter side a: \"))\n",
        "b = float(input(\"Enter side b: \"))\n",
        "print(\"c^2 =\", a**2 + b**2)   # square of hypotenuse"
      ],
      "metadata": {
        "colab": {
          "base_uri": "https://localhost:8080/"
        },
        "id": "8pABDgvnmf-r",
        "outputId": "79dc582c-1629-4121-8411-00895073a0ef"
      },
      "execution_count": null,
      "outputs": [
        {
          "output_type": "stream",
          "name": "stdout",
          "text": [
            "Enter side a: 995\n",
            "Enter side b: 801\n",
            "c^2 = 1631626.0\n"
          ]
        }
      ]
    },
    {
      "cell_type": "markdown",
      "source": [
        "**P7. Lists**"
      ],
      "metadata": {
        "id": "_G74vAvCmqwB"
      }
    },
    {
      "cell_type": "markdown",
      "source": [
        "**P7.1**"
      ],
      "metadata": {
        "id": "7T5MO6I0mvG6"
      }
    },
    {
      "cell_type": "code",
      "metadata": {
        "colab": {
          "base_uri": "https://localhost:8080/"
        },
        "id": "557debeb",
        "outputId": "c8ad225c-edc2-407f-d74d-0e905bb8aaf2"
      },
      "source": [
        "my_list = [\"Hello\", \"World\", \"Charles Darwin\"]\n",
        "print(my_list[1])  # \"World\" (0-based indexing)\n"
      ],
      "execution_count": null,
      "outputs": [
        {
          "output_type": "stream",
          "name": "stdout",
          "text": [
            "World\n"
          ]
        }
      ]
    },
    {
      "cell_type": "markdown",
      "source": [
        "**P7.2**"
      ],
      "metadata": {
        "id": "4JBydXGum2UY"
      }
    },
    {
      "cell_type": "code",
      "metadata": {
        "colab": {
          "base_uri": "https://localhost:8080/"
        },
        "id": "5d536bc6",
        "outputId": "7171e5d6-ff5a-4c66-d4cd-acf81211aff7"
      },
      "source": [
        "my_list[2] = \"AASHAY DESHPANDE\"\n",
        "print(my_list)"
      ],
      "execution_count": null,
      "outputs": [
        {
          "output_type": "stream",
          "name": "stdout",
          "text": [
            "['Hello', 'World', 'AASHAY DESHPANDE']\n"
          ]
        }
      ]
    },
    {
      "cell_type": "markdown",
      "source": [
        "**P7.3**"
      ],
      "metadata": {
        "id": "jXXrOZvlm-8_"
      }
    },
    {
      "cell_type": "code",
      "source": [
        "my_list.append(\"MacBook Air\")\n",
        "print(my_list)\n"
      ],
      "metadata": {
        "colab": {
          "base_uri": "https://localhost:8080/"
        },
        "id": "ejYuRzlUnBI1",
        "outputId": "8b71eb14-e05a-41c4-fd74-481b11c3b158"
      },
      "execution_count": null,
      "outputs": [
        {
          "output_type": "stream",
          "name": "stdout",
          "text": [
            "['Hello', 'World', 'AASHAY DESHPANDE', 'MacBook Air']\n"
          ]
        }
      ]
    },
    {
      "cell_type": "markdown",
      "source": [
        "**P7.4**"
      ],
      "metadata": {
        "id": "gYqb2OCvnImb"
      }
    },
    {
      "cell_type": "code",
      "source": [
        "my_list.insert(1, \"Inserted item\")\n",
        "print(my_list)"
      ],
      "metadata": {
        "colab": {
          "base_uri": "https://localhost:8080/"
        },
        "id": "Mx1xLRE3nJ6T",
        "outputId": "39ad2ada-546e-417a-9298-3db57320ff56"
      },
      "execution_count": null,
      "outputs": [
        {
          "output_type": "stream",
          "name": "stdout",
          "text": [
            "['Hello', 'Inserted item', 'World', 'AASHAY DESHPANDE', 'MacBook Air']\n"
          ]
        }
      ]
    },
    {
      "cell_type": "markdown",
      "source": [
        "**P8. Slicing Lists and Strings**"
      ],
      "metadata": {
        "id": "CUd-ZkxjnUGI"
      }
    },
    {
      "cell_type": "markdown",
      "source": [
        "**P8.1**"
      ],
      "metadata": {
        "id": "Nj08kk1DnYoP"
      }
    },
    {
      "cell_type": "code",
      "metadata": {
        "colab": {
          "base_uri": "https://localhost:8080/"
        },
        "id": "df5f2667",
        "outputId": "0b1e515f-29a1-4b82-d1cb-a007088e8baa"
      },
      "source": [
        "# expecting: [\"World\", \"Alfred R. Wallace\"]\n",
        "print(my_list[2:4])  # non-inclusive end"
      ],
      "execution_count": null,
      "outputs": [
        {
          "output_type": "stream",
          "name": "stdout",
          "text": [
            "['World', 'AASHAY DESHPANDE']\n"
          ]
        }
      ]
    },
    {
      "cell_type": "markdown",
      "source": [
        "**P8.2**"
      ],
      "metadata": {
        "id": "IQ020vFqnmHO"
      }
    },
    {
      "cell_type": "code",
      "source": [
        "my_string = \"HelloWorldCharlesDarwinAlfred R. Wallace\"\n",
        "# target: \"Wallace World\"\n",
        "hello_world = my_string[0:5] + \" \" + my_string[5:10]  # \"Hello World\" (just demo)\n",
        "wallace = my_string[my_string.index(\"Wallace\"): my_string.index(\"Wallace\")+7]\n",
        "world = my_string[5:10]\n",
        "print(wallace + \" \" + world)\n"
      ],
      "metadata": {
        "colab": {
          "base_uri": "https://localhost:8080/"
        },
        "id": "NQI6TDUsnn3P",
        "outputId": "0c231e25-1ed9-4ab2-92f3-d1a20aee06bc"
      },
      "execution_count": null,
      "outputs": [
        {
          "output_type": "stream",
          "name": "stdout",
          "text": [
            "Wallace World\n"
          ]
        }
      ]
    },
    {
      "cell_type": "markdown",
      "source": [
        "**P8.3 – Rosalind #2 (Strings and Lists)**"
      ],
      "metadata": {
        "id": "8fAHj1L2ntwW"
      }
    },
    {
      "cell_type": "code",
      "metadata": {
        "colab": {
          "base_uri": "https://localhost:8080/"
        },
        "id": "626f897a",
        "outputId": "98e45461-90dd-4b64-cb8c-148067453bed"
      },
      "source": [
        "s = input().strip()\n",
        "a, b, c, d = map(int, input().split())\n",
        "print(s[a:b+1], s[c:d+1])"
      ],
      "execution_count": null,
      "outputs": [
        {
          "output_type": "stream",
          "name": "stdout",
          "text": [
            "ozTgGvYCzblzhtCvI13YLLXL6hFhGdQpEmberiza3Jh3WKOIYKi8IS7LiHrX75pN8JYWhkdjXJLGXwOPKolHfm4lbxoCOSkN5jntcLT5gBtbarbatae6SEZcaLIdB5XpdXiO60fYoDyhZDKGsveK14yPuBb6T4ULMHPVwv66WsUzc3Qbf.\n",
            "32 39 107 113\n",
            "Emberiza barbata\n"
          ]
        }
      ]
    },
    {
      "cell_type": "markdown",
      "source": [
        "**P9. If / Else – Conditional Output**"
      ],
      "metadata": {
        "id": "ypdzY7d5pIfX"
      }
    },
    {
      "cell_type": "markdown",
      "source": [
        "**P9.1**"
      ],
      "metadata": {
        "id": "GkbB20sMpMB-"
      }
    },
    {
      "cell_type": "code",
      "source": [
        "x = float(input(\"x: \"))\n",
        "y = float(input(\"y: \"))\n",
        "if x == y:\n",
        "    print(x + y)\n",
        "else:\n",
        "    print(x - y)\n"
      ],
      "metadata": {
        "id": "W7Ai_mqYlzuw"
      },
      "execution_count": null,
      "outputs": []
    },
    {
      "cell_type": "markdown",
      "source": [
        "**P10. While Loops**"
      ],
      "metadata": {
        "id": "HJ8-0ayVpRN-"
      }
    },
    {
      "cell_type": "markdown",
      "source": [
        "P10.1"
      ],
      "metadata": {
        "id": "WAiD_MukpSaw"
      }
    },
    {
      "cell_type": "code",
      "source": [
        "cnt = 0\n",
        "while cnt < 3:\n",
        "    print(\"Counting!\")\n",
        "    cnt += 1\n"
      ],
      "metadata": {
        "id": "yaEp5CjVpVJy"
      },
      "execution_count": null,
      "outputs": []
    },
    {
      "cell_type": "markdown",
      "source": [
        "**P11. For Loops – Over Lists**"
      ],
      "metadata": {
        "id": "2_SgjQxXpXbF"
      }
    },
    {
      "cell_type": "markdown",
      "source": [
        "**P11.1**"
      ],
      "metadata": {
        "id": "Mq0fUbJ1pZwS"
      }
    },
    {
      "cell_type": "code",
      "source": [
        "names = [\"Nishant\", \"Soham\", \"Akshat\"]\n",
        "for name in names:\n",
        "    print(\"Hello\", name)\n"
      ],
      "metadata": {
        "id": "C_JGaJM-pejH"
      },
      "execution_count": null,
      "outputs": []
    },
    {
      "cell_type": "markdown",
      "source": [
        "**P12. For Loops – Using range()**"
      ],
      "metadata": {
        "id": "zp7zSglTpi5u"
      }
    },
    {
      "cell_type": "markdown",
      "source": [
        "**P12.1**"
      ],
      "metadata": {
        "id": "fqCoL5p7plhc"
      }
    },
    {
      "cell_type": "code",
      "source": [
        "iterations = 10\n",
        "for number in range(iterations):\n",
        "    print(number)   # 0..9 (10 numbers)\n"
      ],
      "metadata": {
        "id": "gT0R_1rHp09h"
      },
      "execution_count": null,
      "outputs": []
    },
    {
      "cell_type": "markdown",
      "source": [
        "**P12.2**"
      ],
      "metadata": {
        "id": "pDaINFR1p1fC"
      }
    },
    {
      "cell_type": "code",
      "source": [
        "for n in range(9, 28, 3):  # 9..27 inclusive\n",
        "    print(n)\n"
      ],
      "metadata": {
        "id": "8xleBlP1p6aa"
      },
      "execution_count": null,
      "outputs": []
    },
    {
      "cell_type": "markdown",
      "source": [
        "**P12.3 – Rosalind #3 (Conditions and Loops)**"
      ],
      "metadata": {
        "id": "pUtwo6Lrp-mX"
      }
    },
    {
      "cell_type": "code",
      "source": [
        "a, b = map(int, input().split())\n",
        "print(sum(n for n in range(a, b+1) if n % 2 == 1))\n"
      ],
      "metadata": {
        "colab": {
          "base_uri": "https://localhost:8080/"
        },
        "id": "Oo8RMzNMp_xH",
        "outputId": "57c0cbd3-8207-4801-e37e-5dbc70901638"
      },
      "execution_count": null,
      "outputs": [
        {
          "output_type": "stream",
          "name": "stdout",
          "text": [
            "4959 9007\n",
            "14140575\n"
          ]
        }
      ]
    },
    {
      "cell_type": "code",
      "source": [
        "from google.colab import files\n",
        "uploaded = files.upload()  # pick your practice.txt\n",
        "\n",
        "with open(\"practice.txt\", \"r\", encoding=\"utf-8\") as f:\n",
        "    print(f.read())\n"
      ],
      "metadata": {
        "colab": {
          "base_uri": "https://localhost:8080/",
          "height": 766
        },
        "id": "EJDDvNAjqFIZ",
        "outputId": "ddc4f380-8859-4446-b572-911a9d84451c"
      },
      "execution_count": null,
      "outputs": [
        {
          "output_type": "display_data",
          "data": {
            "text/plain": [
              "<IPython.core.display.HTML object>"
            ],
            "text/html": [
              "\n",
              "     <input type=\"file\" id=\"files-a14a5766-819c-416b-ab2f-62fc68945ebe\" name=\"files[]\" multiple disabled\n",
              "        style=\"border:none\" />\n",
              "     <output id=\"result-a14a5766-819c-416b-ab2f-62fc68945ebe\">\n",
              "      Upload widget is only available when the cell has been executed in the\n",
              "      current browser session. Please rerun this cell to enable.\n",
              "      </output>\n",
              "      <script>// Copyright 2017 Google LLC\n",
              "//\n",
              "// Licensed under the Apache License, Version 2.0 (the \"License\");\n",
              "// you may not use this file except in compliance with the License.\n",
              "// You may obtain a copy of the License at\n",
              "//\n",
              "//      http://www.apache.org/licenses/LICENSE-2.0\n",
              "//\n",
              "// Unless required by applicable law or agreed to in writing, software\n",
              "// distributed under the License is distributed on an \"AS IS\" BASIS,\n",
              "// WITHOUT WARRANTIES OR CONDITIONS OF ANY KIND, either express or implied.\n",
              "// See the License for the specific language governing permissions and\n",
              "// limitations under the License.\n",
              "\n",
              "/**\n",
              " * @fileoverview Helpers for google.colab Python module.\n",
              " */\n",
              "(function(scope) {\n",
              "function span(text, styleAttributes = {}) {\n",
              "  const element = document.createElement('span');\n",
              "  element.textContent = text;\n",
              "  for (const key of Object.keys(styleAttributes)) {\n",
              "    element.style[key] = styleAttributes[key];\n",
              "  }\n",
              "  return element;\n",
              "}\n",
              "\n",
              "// Max number of bytes which will be uploaded at a time.\n",
              "const MAX_PAYLOAD_SIZE = 100 * 1024;\n",
              "\n",
              "function _uploadFiles(inputId, outputId) {\n",
              "  const steps = uploadFilesStep(inputId, outputId);\n",
              "  const outputElement = document.getElementById(outputId);\n",
              "  // Cache steps on the outputElement to make it available for the next call\n",
              "  // to uploadFilesContinue from Python.\n",
              "  outputElement.steps = steps;\n",
              "\n",
              "  return _uploadFilesContinue(outputId);\n",
              "}\n",
              "\n",
              "// This is roughly an async generator (not supported in the browser yet),\n",
              "// where there are multiple asynchronous steps and the Python side is going\n",
              "// to poll for completion of each step.\n",
              "// This uses a Promise to block the python side on completion of each step,\n",
              "// then passes the result of the previous step as the input to the next step.\n",
              "function _uploadFilesContinue(outputId) {\n",
              "  const outputElement = document.getElementById(outputId);\n",
              "  const steps = outputElement.steps;\n",
              "\n",
              "  const next = steps.next(outputElement.lastPromiseValue);\n",
              "  return Promise.resolve(next.value.promise).then((value) => {\n",
              "    // Cache the last promise value to make it available to the next\n",
              "    // step of the generator.\n",
              "    outputElement.lastPromiseValue = value;\n",
              "    return next.value.response;\n",
              "  });\n",
              "}\n",
              "\n",
              "/**\n",
              " * Generator function which is called between each async step of the upload\n",
              " * process.\n",
              " * @param {string} inputId Element ID of the input file picker element.\n",
              " * @param {string} outputId Element ID of the output display.\n",
              " * @return {!Iterable<!Object>} Iterable of next steps.\n",
              " */\n",
              "function* uploadFilesStep(inputId, outputId) {\n",
              "  const inputElement = document.getElementById(inputId);\n",
              "  inputElement.disabled = false;\n",
              "\n",
              "  const outputElement = document.getElementById(outputId);\n",
              "  outputElement.innerHTML = '';\n",
              "\n",
              "  const pickedPromise = new Promise((resolve) => {\n",
              "    inputElement.addEventListener('change', (e) => {\n",
              "      resolve(e.target.files);\n",
              "    });\n",
              "  });\n",
              "\n",
              "  const cancel = document.createElement('button');\n",
              "  inputElement.parentElement.appendChild(cancel);\n",
              "  cancel.textContent = 'Cancel upload';\n",
              "  const cancelPromise = new Promise((resolve) => {\n",
              "    cancel.onclick = () => {\n",
              "      resolve(null);\n",
              "    };\n",
              "  });\n",
              "\n",
              "  // Wait for the user to pick the files.\n",
              "  const files = yield {\n",
              "    promise: Promise.race([pickedPromise, cancelPromise]),\n",
              "    response: {\n",
              "      action: 'starting',\n",
              "    }\n",
              "  };\n",
              "\n",
              "  cancel.remove();\n",
              "\n",
              "  // Disable the input element since further picks are not allowed.\n",
              "  inputElement.disabled = true;\n",
              "\n",
              "  if (!files) {\n",
              "    return {\n",
              "      response: {\n",
              "        action: 'complete',\n",
              "      }\n",
              "    };\n",
              "  }\n",
              "\n",
              "  for (const file of files) {\n",
              "    const li = document.createElement('li');\n",
              "    li.append(span(file.name, {fontWeight: 'bold'}));\n",
              "    li.append(span(\n",
              "        `(${file.type || 'n/a'}) - ${file.size} bytes, ` +\n",
              "        `last modified: ${\n",
              "            file.lastModifiedDate ? file.lastModifiedDate.toLocaleDateString() :\n",
              "                                    'n/a'} - `));\n",
              "    const percent = span('0% done');\n",
              "    li.appendChild(percent);\n",
              "\n",
              "    outputElement.appendChild(li);\n",
              "\n",
              "    const fileDataPromise = new Promise((resolve) => {\n",
              "      const reader = new FileReader();\n",
              "      reader.onload = (e) => {\n",
              "        resolve(e.target.result);\n",
              "      };\n",
              "      reader.readAsArrayBuffer(file);\n",
              "    });\n",
              "    // Wait for the data to be ready.\n",
              "    let fileData = yield {\n",
              "      promise: fileDataPromise,\n",
              "      response: {\n",
              "        action: 'continue',\n",
              "      }\n",
              "    };\n",
              "\n",
              "    // Use a chunked sending to avoid message size limits. See b/62115660.\n",
              "    let position = 0;\n",
              "    do {\n",
              "      const length = Math.min(fileData.byteLength - position, MAX_PAYLOAD_SIZE);\n",
              "      const chunk = new Uint8Array(fileData, position, length);\n",
              "      position += length;\n",
              "\n",
              "      const base64 = btoa(String.fromCharCode.apply(null, chunk));\n",
              "      yield {\n",
              "        response: {\n",
              "          action: 'append',\n",
              "          file: file.name,\n",
              "          data: base64,\n",
              "        },\n",
              "      };\n",
              "\n",
              "      let percentDone = fileData.byteLength === 0 ?\n",
              "          100 :\n",
              "          Math.round((position / fileData.byteLength) * 100);\n",
              "      percent.textContent = `${percentDone}% done`;\n",
              "\n",
              "    } while (position < fileData.byteLength);\n",
              "  }\n",
              "\n",
              "  // All done.\n",
              "  yield {\n",
              "    response: {\n",
              "      action: 'complete',\n",
              "    }\n",
              "  };\n",
              "}\n",
              "\n",
              "scope.google = scope.google || {};\n",
              "scope.google.colab = scope.google.colab || {};\n",
              "scope.google.colab._files = {\n",
              "  _uploadFiles,\n",
              "  _uploadFilesContinue,\n",
              "};\n",
              "})(self);\n",
              "</script> "
            ]
          },
          "metadata": {}
        },
        {
          "output_type": "stream",
          "name": "stdout",
          "text": [
            "Saving practice.txt to practice.txt\n",
            "practice.txt`Twas brillig, and the slithy toves\n",
            "Some things in life are bad, they can really make you mad\n",
            "  Did gyre and gimble in the wabe:\n",
            "Other things just make you swear and curse\n",
            "All mimsy were the borogoves,\n",
            "When you're chewing on life's gristle, don't grumble give a whistle\n",
            "  And the mome raths outgrabe.\n",
            "This will help things turn out for the best\n",
            "\"Beware the Jabberwock, my son!\n",
            "Always look on the bright side of life\n",
            "  The jaws that bite, the claws that catch!\n",
            "Always look on the right side of life\n",
            "Beware the Jubjub bird, and shun\n",
            "If life seems jolly rotten, there's something you've forgotten\n",
            "  The frumious Bandersnatch!\"\n",
            "And that's to laugh and smile and dance and sing\n",
            "He took his vorpal sword in hand:\n",
            "When you're feeling in the dumps, don't be silly, chumps\n",
            "  Long time the manxome foe he sought --\n",
            "Just purse your lips and whistle, that's the thing\n",
            "So rested he by the Tumtum tree,\n",
            "So, always look on the bright side of death\n",
            "  And stood awhile in thought.\n",
            "Just before you draw your terminal breath\n",
            "And, as in uffish thought he stood,\n",
            "Life's a counterfeit and when you look at it\n",
            "  The Jabberwock, with eyes of flame,\n",
            "Life's a laugh and death's the joke, it's true\n",
            "Came whiffling through the tulgey wood,\n",
            "You see, it's all a show, keep them laughing as you go\n",
            "  And burbled as it came!\n",
            "Just remember the last laugh is on you\n",
            "One, two! One, two! And through and through\n",
            "Always look on the bright side of life\n",
            "  The vorpal blade went snicker-snack!\n",
            "And always look on the right side of life\n",
            "He left it dead, and with its head\n",
            "Always look on the bright side of life\n",
            "  He went galumphing back.\n",
            "And always look on the right side of life\n",
            "\n"
          ]
        }
      ]
    },
    {
      "cell_type": "markdown",
      "source": [
        "**P13.2**"
      ],
      "metadata": {
        "id": "EH4wpuXyqILI"
      }
    },
    {
      "cell_type": "code",
      "source": [
        "with open(\"practice.txt\", \"r\") as data:\n",
        "    whole = data.read()\n",
        "    print(\"[read()] ->\"); print(whole)\n",
        "\n",
        "with open(\"practice.txt\", \"r\") as data:\n",
        "    line1 = data.readline()\n",
        "    print(\"\\n[readline()] ->\"); print(line1, end=\"\")\n",
        "\n",
        "with open(\"practice.txt\", \"r\") as data:\n",
        "    lines = data.readlines()\n",
        "    print(\"\\n[readlines()] ->\"); print(lines)\n"
      ],
      "metadata": {
        "colab": {
          "base_uri": "https://localhost:8080/"
        },
        "id": "aIFHnpZJqJjM",
        "outputId": "8d1dbe5e-a18b-4cac-a41a-8367e609c11c"
      },
      "execution_count": null,
      "outputs": [
        {
          "output_type": "stream",
          "name": "stdout",
          "text": [
            "[read()] ->\n",
            "practice.txt`Twas brillig, and the slithy toves\n",
            "Some things in life are bad, they can really make you mad\n",
            "  Did gyre and gimble in the wabe:\n",
            "Other things just make you swear and curse\n",
            "All mimsy were the borogoves,\n",
            "When you're chewing on life's gristle, don't grumble give a whistle\n",
            "  And the mome raths outgrabe.\n",
            "This will help things turn out for the best\n",
            "\"Beware the Jabberwock, my son!\n",
            "Always look on the bright side of life\n",
            "  The jaws that bite, the claws that catch!\n",
            "Always look on the right side of life\n",
            "Beware the Jubjub bird, and shun\n",
            "If life seems jolly rotten, there's something you've forgotten\n",
            "  The frumious Bandersnatch!\"\n",
            "And that's to laugh and smile and dance and sing\n",
            "He took his vorpal sword in hand:\n",
            "When you're feeling in the dumps, don't be silly, chumps\n",
            "  Long time the manxome foe he sought --\n",
            "Just purse your lips and whistle, that's the thing\n",
            "So rested he by the Tumtum tree,\n",
            "So, always look on the bright side of death\n",
            "  And stood awhile in thought.\n",
            "Just before you draw your terminal breath\n",
            "And, as in uffish thought he stood,\n",
            "Life's a counterfeit and when you look at it\n",
            "  The Jabberwock, with eyes of flame,\n",
            "Life's a laugh and death's the joke, it's true\n",
            "Came whiffling through the tulgey wood,\n",
            "You see, it's all a show, keep them laughing as you go\n",
            "  And burbled as it came!\n",
            "Just remember the last laugh is on you\n",
            "One, two! One, two! And through and through\n",
            "Always look on the bright side of life\n",
            "  The vorpal blade went snicker-snack!\n",
            "And always look on the right side of life\n",
            "He left it dead, and with its head\n",
            "Always look on the bright side of life\n",
            "  He went galumphing back.\n",
            "And always look on the right side of life\n",
            "\n",
            "\n",
            "[readline()] ->\n",
            "practice.txt`Twas brillig, and the slithy toves\n",
            "\n",
            "[readlines()] ->\n",
            "['practice.txt`Twas brillig, and the slithy toves\\n', 'Some things in life are bad, they can really make you mad\\n', '  Did gyre and gimble in the wabe:\\n', 'Other things just make you swear and curse\\n', 'All mimsy were the borogoves,\\n', \"When you're chewing on life's gristle, don't grumble give a whistle\\n\", '  And the mome raths outgrabe.\\n', 'This will help things turn out for the best\\n', '\"Beware the Jabberwock, my son!\\n', 'Always look on the bright side of life\\n', '  The jaws that bite, the claws that catch!\\n', 'Always look on the right side of life\\n', 'Beware the Jubjub bird, and shun\\n', \"If life seems jolly rotten, there's something you've forgotten\\n\", '  The frumious Bandersnatch!\"\\n', \"And that's to laugh and smile and dance and sing\\n\", 'He took his vorpal sword in hand:\\n', \"When you're feeling in the dumps, don't be silly, chumps\\n\", '  Long time the manxome foe he sought --\\n', \"Just purse your lips and whistle, that's the thing\\n\", 'So rested he by the Tumtum tree,\\n', 'So, always look on the bright side of death\\n', '  And stood awhile in thought.\\n', 'Just before you draw your terminal breath\\n', 'And, as in uffish thought he stood,\\n', \"Life's a counterfeit and when you look at it\\n\", '  The Jabberwock, with eyes of flame,\\n', \"Life's a laugh and death's the joke, it's true\\n\", 'Came whiffling through the tulgey wood,\\n', \"You see, it's all a show, keep them laughing as you go\\n\", '  And burbled as it came!\\n', 'Just remember the last laugh is on you\\n', 'One, two! One, two! And through and through\\n', 'Always look on the bright side of life\\n', '  The vorpal blade went snicker-snack!\\n', 'And always look on the right side of life\\n', 'He left it dead, and with its head\\n', 'Always look on the bright side of life\\n', '  He went galumphing back.\\n', 'And always look on the right side of life\\n']\n"
          ]
        }
      ]
    },
    {
      "cell_type": "markdown",
      "source": [
        "**P14. Store & Close File, Use join()**"
      ],
      "metadata": {
        "id": "yMBVAr1SqOMz"
      }
    },
    {
      "cell_type": "markdown",
      "source": [
        "**P14.1**"
      ],
      "metadata": {
        "id": "LJYbV3q_qRoY"
      }
    },
    {
      "cell_type": "code",
      "source": [
        "with open(\"practice.txt\", \"r\") as data:\n",
        "    list_of_lines = data.readlines()\n",
        "\n",
        "print(\"\".join(list_of_lines))  # looks like original input\n"
      ],
      "metadata": {
        "colab": {
          "base_uri": "https://localhost:8080/"
        },
        "id": "muNxlk6OqPUc",
        "outputId": "95e3916c-b6a9-4526-d1db-6355bcb11c29"
      },
      "execution_count": null,
      "outputs": [
        {
          "output_type": "stream",
          "name": "stdout",
          "text": [
            "practice.txt`Twas brillig, and the slithy toves\n",
            "Some things in life are bad, they can really make you mad\n",
            "  Did gyre and gimble in the wabe:\n",
            "Other things just make you swear and curse\n",
            "All mimsy were the borogoves,\n",
            "When you're chewing on life's gristle, don't grumble give a whistle\n",
            "  And the mome raths outgrabe.\n",
            "This will help things turn out for the best\n",
            "\"Beware the Jabberwock, my son!\n",
            "Always look on the bright side of life\n",
            "  The jaws that bite, the claws that catch!\n",
            "Always look on the right side of life\n",
            "Beware the Jubjub bird, and shun\n",
            "If life seems jolly rotten, there's something you've forgotten\n",
            "  The frumious Bandersnatch!\"\n",
            "And that's to laugh and smile and dance and sing\n",
            "He took his vorpal sword in hand:\n",
            "When you're feeling in the dumps, don't be silly, chumps\n",
            "  Long time the manxome foe he sought --\n",
            "Just purse your lips and whistle, that's the thing\n",
            "So rested he by the Tumtum tree,\n",
            "So, always look on the bright side of death\n",
            "  And stood awhile in thought.\n",
            "Just before you draw your terminal breath\n",
            "And, as in uffish thought he stood,\n",
            "Life's a counterfeit and when you look at it\n",
            "  The Jabberwock, with eyes of flame,\n",
            "Life's a laugh and death's the joke, it's true\n",
            "Came whiffling through the tulgey wood,\n",
            "You see, it's all a show, keep them laughing as you go\n",
            "  And burbled as it came!\n",
            "Just remember the last laugh is on you\n",
            "One, two! One, two! And through and through\n",
            "Always look on the bright side of life\n",
            "  The vorpal blade went snicker-snack!\n",
            "And always look on the right side of life\n",
            "He left it dead, and with its head\n",
            "Always look on the bright side of life\n",
            "  He went galumphing back.\n",
            "And always look on the right side of life\n",
            "\n"
          ]
        }
      ]
    },
    {
      "cell_type": "markdown",
      "source": [
        "**P15. File Loops**"
      ],
      "metadata": {
        "id": "EfbqOFizqY9q"
      }
    },
    {
      "cell_type": "markdown",
      "source": [
        "**P15.1**"
      ],
      "metadata": {
        "id": "NM5SgP0YqZ_Q"
      }
    },
    {
      "cell_type": "code",
      "source": [
        "with open(\"practice.txt\", \"r\") as data:\n",
        "    for line in data:\n",
        "        print(line.rstrip())\n"
      ],
      "metadata": {
        "colab": {
          "base_uri": "https://localhost:8080/"
        },
        "id": "1yUFODHDqebX",
        "outputId": "373fd801-8985-4076-d96c-5412da05d84f"
      },
      "execution_count": null,
      "outputs": [
        {
          "output_type": "stream",
          "name": "stdout",
          "text": [
            "practice.txt`Twas brillig, and the slithy toves\n",
            "Some things in life are bad, they can really make you mad\n",
            "  Did gyre and gimble in the wabe:\n",
            "Other things just make you swear and curse\n",
            "All mimsy were the borogoves,\n",
            "When you're chewing on life's gristle, don't grumble give a whistle\n",
            "  And the mome raths outgrabe.\n",
            "This will help things turn out for the best\n",
            "\"Beware the Jabberwock, my son!\n",
            "Always look on the bright side of life\n",
            "  The jaws that bite, the claws that catch!\n",
            "Always look on the right side of life\n",
            "Beware the Jubjub bird, and shun\n",
            "If life seems jolly rotten, there's something you've forgotten\n",
            "  The frumious Bandersnatch!\"\n",
            "And that's to laugh and smile and dance and sing\n",
            "He took his vorpal sword in hand:\n",
            "When you're feeling in the dumps, don't be silly, chumps\n",
            "  Long time the manxome foe he sought --\n",
            "Just purse your lips and whistle, that's the thing\n",
            "So rested he by the Tumtum tree,\n",
            "So, always look on the bright side of death\n",
            "  And stood awhile in thought.\n",
            "Just before you draw your terminal breath\n",
            "And, as in uffish thought he stood,\n",
            "Life's a counterfeit and when you look at it\n",
            "  The Jabberwock, with eyes of flame,\n",
            "Life's a laugh and death's the joke, it's true\n",
            "Came whiffling through the tulgey wood,\n",
            "You see, it's all a show, keep them laughing as you go\n",
            "  And burbled as it came!\n",
            "Just remember the last laugh is on you\n",
            "One, two! One, two! And through and through\n",
            "Always look on the bright side of life\n",
            "  The vorpal blade went snicker-snack!\n",
            "And always look on the right side of life\n",
            "He left it dead, and with its head\n",
            "Always look on the bright side of life\n",
            "  He went galumphing back.\n",
            "And always look on the right side of life\n"
          ]
        }
      ]
    },
    {
      "cell_type": "markdown",
      "source": [
        "**P15.2 – Rosalind #4 (Working with Files)**"
      ],
      "metadata": {
        "id": "26xXcTWrqkLD"
      }
    },
    {
      "cell_type": "code",
      "source": [
        "with open(\"practice.txt\", \"r\") as data:\n",
        "    for i, line in enumerate(data, start=1):\n",
        "        if i % 2 == 0:\n",
        "            print(line.rstrip())\n"
      ],
      "metadata": {
        "colab": {
          "base_uri": "https://localhost:8080/"
        },
        "id": "lX3LRMSLqiRa",
        "outputId": "cd673581-dec5-4c24-e539-fdbd0b3a44e0"
      },
      "execution_count": null,
      "outputs": [
        {
          "output_type": "stream",
          "name": "stdout",
          "text": [
            "Some things in life are bad, they can really make you mad\n",
            "Other things just make you swear and curse\n",
            "When you're chewing on life's gristle, don't grumble give a whistle\n",
            "This will help things turn out for the best\n",
            "Always look on the bright side of life\n",
            "Always look on the right side of life\n",
            "If life seems jolly rotten, there's something you've forgotten\n",
            "And that's to laugh and smile and dance and sing\n",
            "When you're feeling in the dumps, don't be silly, chumps\n",
            "Just purse your lips and whistle, that's the thing\n",
            "So, always look on the bright side of death\n",
            "Just before you draw your terminal breath\n",
            "Life's a counterfeit and when you look at it\n",
            "Life's a laugh and death's the joke, it's true\n",
            "You see, it's all a show, keep them laughing as you go\n",
            "Just remember the last laugh is on you\n",
            "Always look on the bright side of life\n",
            "And always look on the right side of life\n",
            "Always look on the bright side of life\n",
            "And always look on the right side of life\n"
          ]
        }
      ]
    },
    {
      "cell_type": "markdown",
      "source": [
        "**P16. Split Strings**"
      ],
      "metadata": {
        "id": "c3rEGylGqpax"
      }
    },
    {
      "cell_type": "markdown",
      "source": [
        "**P16.1**"
      ],
      "metadata": {
        "id": "UwR1Jsq7qsJi"
      }
    },
    {
      "cell_type": "code",
      "source": [
        "\n",
        "from google.colab import files\n",
        "uploaded = files.upload()  # pick your practice.txt\n",
        "\n",
        "# practice_5.txt: one or more lines of text\n",
        "with open(\"practice_5.txt\", \"r\") as f:\n",
        "    for line in f:\n",
        "        for word in line.split():\n",
        "            print(word)\n"
      ],
      "metadata": {
        "colab": {
          "base_uri": "https://localhost:8080/",
          "height": 1000
        },
        "id": "3p3XPnIaqtEU",
        "outputId": "0b9b0e0d-f6d8-4c55-9a3a-bbd8a9da8659"
      },
      "execution_count": null,
      "outputs": [
        {
          "output_type": "display_data",
          "data": {
            "text/plain": [
              "<IPython.core.display.HTML object>"
            ],
            "text/html": [
              "\n",
              "     <input type=\"file\" id=\"files-37880386-7255-459d-bd84-25261954c139\" name=\"files[]\" multiple disabled\n",
              "        style=\"border:none\" />\n",
              "     <output id=\"result-37880386-7255-459d-bd84-25261954c139\">\n",
              "      Upload widget is only available when the cell has been executed in the\n",
              "      current browser session. Please rerun this cell to enable.\n",
              "      </output>\n",
              "      <script>// Copyright 2017 Google LLC\n",
              "//\n",
              "// Licensed under the Apache License, Version 2.0 (the \"License\");\n",
              "// you may not use this file except in compliance with the License.\n",
              "// You may obtain a copy of the License at\n",
              "//\n",
              "//      http://www.apache.org/licenses/LICENSE-2.0\n",
              "//\n",
              "// Unless required by applicable law or agreed to in writing, software\n",
              "// distributed under the License is distributed on an \"AS IS\" BASIS,\n",
              "// WITHOUT WARRANTIES OR CONDITIONS OF ANY KIND, either express or implied.\n",
              "// See the License for the specific language governing permissions and\n",
              "// limitations under the License.\n",
              "\n",
              "/**\n",
              " * @fileoverview Helpers for google.colab Python module.\n",
              " */\n",
              "(function(scope) {\n",
              "function span(text, styleAttributes = {}) {\n",
              "  const element = document.createElement('span');\n",
              "  element.textContent = text;\n",
              "  for (const key of Object.keys(styleAttributes)) {\n",
              "    element.style[key] = styleAttributes[key];\n",
              "  }\n",
              "  return element;\n",
              "}\n",
              "\n",
              "// Max number of bytes which will be uploaded at a time.\n",
              "const MAX_PAYLOAD_SIZE = 100 * 1024;\n",
              "\n",
              "function _uploadFiles(inputId, outputId) {\n",
              "  const steps = uploadFilesStep(inputId, outputId);\n",
              "  const outputElement = document.getElementById(outputId);\n",
              "  // Cache steps on the outputElement to make it available for the next call\n",
              "  // to uploadFilesContinue from Python.\n",
              "  outputElement.steps = steps;\n",
              "\n",
              "  return _uploadFilesContinue(outputId);\n",
              "}\n",
              "\n",
              "// This is roughly an async generator (not supported in the browser yet),\n",
              "// where there are multiple asynchronous steps and the Python side is going\n",
              "// to poll for completion of each step.\n",
              "// This uses a Promise to block the python side on completion of each step,\n",
              "// then passes the result of the previous step as the input to the next step.\n",
              "function _uploadFilesContinue(outputId) {\n",
              "  const outputElement = document.getElementById(outputId);\n",
              "  const steps = outputElement.steps;\n",
              "\n",
              "  const next = steps.next(outputElement.lastPromiseValue);\n",
              "  return Promise.resolve(next.value.promise).then((value) => {\n",
              "    // Cache the last promise value to make it available to the next\n",
              "    // step of the generator.\n",
              "    outputElement.lastPromiseValue = value;\n",
              "    return next.value.response;\n",
              "  });\n",
              "}\n",
              "\n",
              "/**\n",
              " * Generator function which is called between each async step of the upload\n",
              " * process.\n",
              " * @param {string} inputId Element ID of the input file picker element.\n",
              " * @param {string} outputId Element ID of the output display.\n",
              " * @return {!Iterable<!Object>} Iterable of next steps.\n",
              " */\n",
              "function* uploadFilesStep(inputId, outputId) {\n",
              "  const inputElement = document.getElementById(inputId);\n",
              "  inputElement.disabled = false;\n",
              "\n",
              "  const outputElement = document.getElementById(outputId);\n",
              "  outputElement.innerHTML = '';\n",
              "\n",
              "  const pickedPromise = new Promise((resolve) => {\n",
              "    inputElement.addEventListener('change', (e) => {\n",
              "      resolve(e.target.files);\n",
              "    });\n",
              "  });\n",
              "\n",
              "  const cancel = document.createElement('button');\n",
              "  inputElement.parentElement.appendChild(cancel);\n",
              "  cancel.textContent = 'Cancel upload';\n",
              "  const cancelPromise = new Promise((resolve) => {\n",
              "    cancel.onclick = () => {\n",
              "      resolve(null);\n",
              "    };\n",
              "  });\n",
              "\n",
              "  // Wait for the user to pick the files.\n",
              "  const files = yield {\n",
              "    promise: Promise.race([pickedPromise, cancelPromise]),\n",
              "    response: {\n",
              "      action: 'starting',\n",
              "    }\n",
              "  };\n",
              "\n",
              "  cancel.remove();\n",
              "\n",
              "  // Disable the input element since further picks are not allowed.\n",
              "  inputElement.disabled = true;\n",
              "\n",
              "  if (!files) {\n",
              "    return {\n",
              "      response: {\n",
              "        action: 'complete',\n",
              "      }\n",
              "    };\n",
              "  }\n",
              "\n",
              "  for (const file of files) {\n",
              "    const li = document.createElement('li');\n",
              "    li.append(span(file.name, {fontWeight: 'bold'}));\n",
              "    li.append(span(\n",
              "        `(${file.type || 'n/a'}) - ${file.size} bytes, ` +\n",
              "        `last modified: ${\n",
              "            file.lastModifiedDate ? file.lastModifiedDate.toLocaleDateString() :\n",
              "                                    'n/a'} - `));\n",
              "    const percent = span('0% done');\n",
              "    li.appendChild(percent);\n",
              "\n",
              "    outputElement.appendChild(li);\n",
              "\n",
              "    const fileDataPromise = new Promise((resolve) => {\n",
              "      const reader = new FileReader();\n",
              "      reader.onload = (e) => {\n",
              "        resolve(e.target.result);\n",
              "      };\n",
              "      reader.readAsArrayBuffer(file);\n",
              "    });\n",
              "    // Wait for the data to be ready.\n",
              "    let fileData = yield {\n",
              "      promise: fileDataPromise,\n",
              "      response: {\n",
              "        action: 'continue',\n",
              "      }\n",
              "    };\n",
              "\n",
              "    // Use a chunked sending to avoid message size limits. See b/62115660.\n",
              "    let position = 0;\n",
              "    do {\n",
              "      const length = Math.min(fileData.byteLength - position, MAX_PAYLOAD_SIZE);\n",
              "      const chunk = new Uint8Array(fileData, position, length);\n",
              "      position += length;\n",
              "\n",
              "      const base64 = btoa(String.fromCharCode.apply(null, chunk));\n",
              "      yield {\n",
              "        response: {\n",
              "          action: 'append',\n",
              "          file: file.name,\n",
              "          data: base64,\n",
              "        },\n",
              "      };\n",
              "\n",
              "      let percentDone = fileData.byteLength === 0 ?\n",
              "          100 :\n",
              "          Math.round((position / fileData.byteLength) * 100);\n",
              "      percent.textContent = `${percentDone}% done`;\n",
              "\n",
              "    } while (position < fileData.byteLength);\n",
              "  }\n",
              "\n",
              "  // All done.\n",
              "  yield {\n",
              "    response: {\n",
              "      action: 'complete',\n",
              "    }\n",
              "  };\n",
              "}\n",
              "\n",
              "scope.google = scope.google || {};\n",
              "scope.google.colab = scope.google.colab || {};\n",
              "scope.google.colab._files = {\n",
              "  _uploadFiles,\n",
              "  _uploadFilesContinue,\n",
              "};\n",
              "})(self);\n",
              "</script> "
            ]
          },
          "metadata": {}
        },
        {
          "output_type": "stream",
          "name": "stdout",
          "text": [
            "Saving practice_5.txt to practice_5.txt\n",
            "When\n",
            "I\n",
            "find\n",
            "myself\n",
            "in\n",
            "times\n",
            "of\n",
            "trouble\n",
            "Mother\n",
            "Mary\n",
            "comes\n",
            "to\n",
            "me\n",
            "Speaking\n",
            "words\n",
            "of\n",
            "wisdom\n",
            "let\n",
            "it\n",
            "be\n",
            "And\n",
            "in\n",
            "my\n",
            "hour\n",
            "of\n",
            "darkness\n",
            "she\n",
            "is\n",
            "standing\n",
            "right\n",
            "in\n",
            "front\n",
            "of\n",
            "me\n",
            "Speaking\n",
            "words\n",
            "of\n",
            "wisdom\n",
            "let\n",
            "it\n",
            "be\n",
            "Let\n",
            "it\n",
            "be\n",
            "let\n",
            "it\n",
            "be\n",
            "let\n",
            "it\n",
            "be\n",
            "let\n",
            "it\n",
            "be\n",
            "Whisper\n",
            "words\n",
            "of\n",
            "wisdom\n",
            "let\n",
            "it\n",
            "be\n",
            "And\n",
            "when\n",
            "the\n",
            "broken\n",
            "hearted\n",
            "people\n",
            "living\n",
            "in\n",
            "the\n",
            "world\n",
            "agree\n",
            "There\n",
            "will\n",
            "be\n",
            "an\n",
            "answer\n",
            "let\n",
            "it\n",
            "be\n",
            "For\n",
            "though\n",
            "they\n",
            "may\n",
            "be\n",
            "parted\n",
            "there\n",
            "is\n",
            "still\n",
            "a\n",
            "chance\n",
            "that\n",
            "they\n",
            "will\n",
            "see\n",
            "There\n",
            "will\n",
            "be\n",
            "an\n",
            "answer\n",
            "let\n",
            "it\n",
            "be\n",
            "Let\n",
            "it\n",
            "be\n",
            "let\n",
            "it\n",
            "be\n",
            "let\n",
            "it\n",
            "be\n",
            "let\n",
            "it\n",
            "be\n",
            "There\n",
            "will\n",
            "be\n",
            "an\n",
            "answer\n",
            "let\n",
            "it\n",
            "be\n",
            "Let\n",
            "it\n",
            "be\n",
            "let\n",
            "it\n",
            "be\n",
            "let\n",
            "it\n",
            "be\n",
            "let\n",
            "it\n",
            "be\n",
            "Whisper\n",
            "words\n",
            "of\n",
            "wisdom\n",
            "let\n",
            "it\n",
            "be\n",
            "Let\n",
            "it\n",
            "be\n",
            "let\n",
            "it\n",
            "be\n",
            "let\n",
            "it\n",
            "be\n",
            "let\n",
            "it\n",
            "be\n",
            "Whisper\n",
            "words\n",
            "of\n",
            "wisdom\n",
            "let\n",
            "it\n",
            "be\n",
            "And\n",
            "when\n",
            "the\n",
            "night\n",
            "is\n",
            "cloudy\n",
            "there\n",
            "is\n",
            "still\n",
            "a\n",
            "light\n",
            "that\n",
            "shines\n",
            "on\n",
            "me\n",
            "Shine\n",
            "until\n",
            "tomorrow\n",
            "let\n",
            "it\n",
            "be\n",
            "I\n",
            "wake\n",
            "up\n",
            "to\n",
            "the\n",
            "sound\n",
            "of\n",
            "music\n",
            "Mother\n",
            "Mary\n",
            "comes\n",
            "to\n",
            "me\n",
            "Speaking\n",
            "words\n",
            "of\n",
            "wisdom\n",
            "let\n",
            "it\n",
            "be\n",
            "Let\n",
            "it\n",
            "be\n",
            "let\n",
            "it\n",
            "be\n",
            "let\n",
            "it\n",
            "be\n",
            "yeah\n",
            "let\n",
            "it\n",
            "be\n",
            "There\n",
            "will\n",
            "be\n",
            "an\n",
            "answer\n",
            "let\n",
            "it\n",
            "be\n",
            "Let\n",
            "it\n",
            "be\n",
            "let\n",
            "it\n",
            "be\n",
            "let\n",
            "it\n",
            "be\n",
            "yeah\n",
            "let\n",
            "it\n",
            "be\n",
            "Whisper\n",
            "words\n",
            "of\n",
            "wisdom\n",
            "let\n",
            "it\n",
            "be\n"
          ]
        }
      ]
    },
    {
      "cell_type": "markdown",
      "source": [
        "**P17. Dictionaries – Basics**"
      ],
      "metadata": {
        "id": "6ejzLdtXqyWW"
      }
    },
    {
      "cell_type": "markdown",
      "source": [
        "**P17.1**"
      ],
      "metadata": {
        "id": "M75MqKwAq13G"
      }
    },
    {
      "cell_type": "code",
      "source": [
        "sequences = {\n",
        "    \"H.sapiens\": \"ATGCGT\",\n",
        "    \"P.troglodytes\": \"ATGAGT\",\n",
        "    \"G.gorilla\": \"ATGCGC\"\n",
        "}\n",
        "print(sequences)\n",
        "print(sequences[\"H.sapiens\"])\n"
      ],
      "metadata": {
        "colab": {
          "base_uri": "https://localhost:8080/"
        },
        "id": "BmCcKHnfq26j",
        "outputId": "dcacf8df-07c5-463f-e973-ca6858e04b08"
      },
      "execution_count": null,
      "outputs": [
        {
          "output_type": "stream",
          "name": "stdout",
          "text": [
            "{'H.sapiens': 'ATGCGT', 'P.troglodytes': 'ATGAGT', 'G.gorilla': 'ATGCGC'}\n",
            "ATGCGT\n"
          ]
        }
      ]
    },
    {
      "cell_type": "markdown",
      "source": [
        "**P18. Dictionaries – Manipulating & Printing**"
      ],
      "metadata": {
        "id": "BLz8VVN8q7B2"
      }
    },
    {
      "cell_type": "markdown",
      "source": [
        "**P18.1 – Create FASTA file from dict**"
      ],
      "metadata": {
        "id": "h_AlNhcBq9y5"
      }
    },
    {
      "cell_type": "code",
      "source": [
        "sequences.update({\"H.neanderthalensis\": \"ATGAAA\"})  # example add\n",
        "with open(\"hominids.fasta\", \"w\") as out:\n",
        "    for key, val in sequences.items():\n",
        "        out.write(f\">{key}\\n{val}\\n\")\n",
        "print(\"Wrote hominids.fasta\")\n"
      ],
      "metadata": {
        "id": "LgLqnBYKrBwE"
      },
      "execution_count": null,
      "outputs": []
    },
    {
      "cell_type": "markdown",
      "source": [
        "**P18.2 – Rosalind #5 (Dictionaries / Word Count)**"
      ],
      "metadata": {
        "id": "aC7US3iDrD5h"
      }
    },
    {
      "cell_type": "code",
      "source": [
        "from collections import Counter\n",
        "\n",
        "# input.txt contains a single line (or multiple) of words\n",
        "with open(\"practice_5.txt\", \"r\") as f:\n",
        "    words = f.read().split()\n",
        "\n",
        "counts = Counter(words)\n",
        "for w, c in counts.items():   # order arbitrary is fine; to sort: for w in sorted(counts)\n",
        "    print(w, c)\n"
      ],
      "metadata": {
        "colab": {
          "base_uri": "https://localhost:8080/"
        },
        "id": "akhPw1KMrGxa",
        "outputId": "7e8357b1-0ca2-409e-e04f-415b5b25ab67"
      },
      "execution_count": null,
      "outputs": [
        {
          "output_type": "stream",
          "name": "stdout",
          "text": [
            "When 1\n",
            "I 2\n",
            "find 1\n",
            "myself 1\n",
            "in 4\n",
            "times 1\n",
            "of 11\n",
            "trouble 1\n",
            "Mother 2\n",
            "Mary 2\n",
            "comes 2\n",
            "to 3\n",
            "me 4\n",
            "Speaking 3\n",
            "words 7\n",
            "wisdom 7\n",
            "let 30\n",
            "it 36\n",
            "be 41\n",
            "And 3\n",
            "my 1\n",
            "hour 1\n",
            "darkness 1\n",
            "she 1\n",
            "is 4\n",
            "standing 1\n",
            "right 1\n",
            "front 1\n",
            "Let 6\n",
            "Whisper 4\n",
            "when 2\n",
            "the 4\n",
            "broken 1\n",
            "hearted 1\n",
            "people 1\n",
            "living 1\n",
            "world 1\n",
            "agree 1\n",
            "There 4\n",
            "will 5\n",
            "an 4\n",
            "answer 4\n",
            "For 1\n",
            "though 1\n",
            "they 2\n",
            "may 1\n",
            "parted 1\n",
            "there 2\n",
            "still 2\n",
            "a 2\n",
            "chance 1\n",
            "that 2\n",
            "see 1\n",
            "night 1\n",
            "cloudy 1\n",
            "light 1\n",
            "shines 1\n",
            "on 1\n",
            "Shine 1\n",
            "until 1\n",
            "tomorrow 1\n",
            "wake 1\n",
            "up 1\n",
            "sound 1\n",
            "music 1\n",
            "yeah 2\n"
          ]
        }
      ]
    },
    {
      "cell_type": "markdown",
      "source": [
        "**P19. count() – Counting Things**"
      ],
      "metadata": {
        "id": "HiI0E8DgrLEG"
      }
    },
    {
      "cell_type": "markdown",
      "source": [
        "**P19.1 – Rosalind #6 (Counting DNA Nucleotides)**"
      ],
      "metadata": {
        "id": "drcmYc8srOgM"
      }
    },
    {
      "cell_type": "code",
      "source": [
        "\n",
        "from google.colab import files\n",
        "uploaded = files.upload()  # pick your practice.txt# dna.txt contains one DNA string\n",
        "\n",
        "with open(\"rosalind_dna.txt\", \"r\") as f:\n",
        "    s = f.read().strip()\n",
        "\n",
        "print(s.count(\"A\"), s.count(\"C\"), s.count(\"G\"), s.count(\"T\"))\n"
      ],
      "metadata": {
        "colab": {
          "base_uri": "https://localhost:8080/",
          "height": 86
        },
        "id": "xXjt6kJNrPlt",
        "outputId": "f250629f-bef4-458a-a621-e0bb06b1ceaf"
      },
      "execution_count": null,
      "outputs": [
        {
          "output_type": "display_data",
          "data": {
            "text/plain": [
              "<IPython.core.display.HTML object>"
            ],
            "text/html": [
              "\n",
              "     <input type=\"file\" id=\"files-c797e043-0d59-487d-abb7-dba1bdc446b4\" name=\"files[]\" multiple disabled\n",
              "        style=\"border:none\" />\n",
              "     <output id=\"result-c797e043-0d59-487d-abb7-dba1bdc446b4\">\n",
              "      Upload widget is only available when the cell has been executed in the\n",
              "      current browser session. Please rerun this cell to enable.\n",
              "      </output>\n",
              "      <script>// Copyright 2017 Google LLC\n",
              "//\n",
              "// Licensed under the Apache License, Version 2.0 (the \"License\");\n",
              "// you may not use this file except in compliance with the License.\n",
              "// You may obtain a copy of the License at\n",
              "//\n",
              "//      http://www.apache.org/licenses/LICENSE-2.0\n",
              "//\n",
              "// Unless required by applicable law or agreed to in writing, software\n",
              "// distributed under the License is distributed on an \"AS IS\" BASIS,\n",
              "// WITHOUT WARRANTIES OR CONDITIONS OF ANY KIND, either express or implied.\n",
              "// See the License for the specific language governing permissions and\n",
              "// limitations under the License.\n",
              "\n",
              "/**\n",
              " * @fileoverview Helpers for google.colab Python module.\n",
              " */\n",
              "(function(scope) {\n",
              "function span(text, styleAttributes = {}) {\n",
              "  const element = document.createElement('span');\n",
              "  element.textContent = text;\n",
              "  for (const key of Object.keys(styleAttributes)) {\n",
              "    element.style[key] = styleAttributes[key];\n",
              "  }\n",
              "  return element;\n",
              "}\n",
              "\n",
              "// Max number of bytes which will be uploaded at a time.\n",
              "const MAX_PAYLOAD_SIZE = 100 * 1024;\n",
              "\n",
              "function _uploadFiles(inputId, outputId) {\n",
              "  const steps = uploadFilesStep(inputId, outputId);\n",
              "  const outputElement = document.getElementById(outputId);\n",
              "  // Cache steps on the outputElement to make it available for the next call\n",
              "  // to uploadFilesContinue from Python.\n",
              "  outputElement.steps = steps;\n",
              "\n",
              "  return _uploadFilesContinue(outputId);\n",
              "}\n",
              "\n",
              "// This is roughly an async generator (not supported in the browser yet),\n",
              "// where there are multiple asynchronous steps and the Python side is going\n",
              "// to poll for completion of each step.\n",
              "// This uses a Promise to block the python side on completion of each step,\n",
              "// then passes the result of the previous step as the input to the next step.\n",
              "function _uploadFilesContinue(outputId) {\n",
              "  const outputElement = document.getElementById(outputId);\n",
              "  const steps = outputElement.steps;\n",
              "\n",
              "  const next = steps.next(outputElement.lastPromiseValue);\n",
              "  return Promise.resolve(next.value.promise).then((value) => {\n",
              "    // Cache the last promise value to make it available to the next\n",
              "    // step of the generator.\n",
              "    outputElement.lastPromiseValue = value;\n",
              "    return next.value.response;\n",
              "  });\n",
              "}\n",
              "\n",
              "/**\n",
              " * Generator function which is called between each async step of the upload\n",
              " * process.\n",
              " * @param {string} inputId Element ID of the input file picker element.\n",
              " * @param {string} outputId Element ID of the output display.\n",
              " * @return {!Iterable<!Object>} Iterable of next steps.\n",
              " */\n",
              "function* uploadFilesStep(inputId, outputId) {\n",
              "  const inputElement = document.getElementById(inputId);\n",
              "  inputElement.disabled = false;\n",
              "\n",
              "  const outputElement = document.getElementById(outputId);\n",
              "  outputElement.innerHTML = '';\n",
              "\n",
              "  const pickedPromise = new Promise((resolve) => {\n",
              "    inputElement.addEventListener('change', (e) => {\n",
              "      resolve(e.target.files);\n",
              "    });\n",
              "  });\n",
              "\n",
              "  const cancel = document.createElement('button');\n",
              "  inputElement.parentElement.appendChild(cancel);\n",
              "  cancel.textContent = 'Cancel upload';\n",
              "  const cancelPromise = new Promise((resolve) => {\n",
              "    cancel.onclick = () => {\n",
              "      resolve(null);\n",
              "    };\n",
              "  });\n",
              "\n",
              "  // Wait for the user to pick the files.\n",
              "  const files = yield {\n",
              "    promise: Promise.race([pickedPromise, cancelPromise]),\n",
              "    response: {\n",
              "      action: 'starting',\n",
              "    }\n",
              "  };\n",
              "\n",
              "  cancel.remove();\n",
              "\n",
              "  // Disable the input element since further picks are not allowed.\n",
              "  inputElement.disabled = true;\n",
              "\n",
              "  if (!files) {\n",
              "    return {\n",
              "      response: {\n",
              "        action: 'complete',\n",
              "      }\n",
              "    };\n",
              "  }\n",
              "\n",
              "  for (const file of files) {\n",
              "    const li = document.createElement('li');\n",
              "    li.append(span(file.name, {fontWeight: 'bold'}));\n",
              "    li.append(span(\n",
              "        `(${file.type || 'n/a'}) - ${file.size} bytes, ` +\n",
              "        `last modified: ${\n",
              "            file.lastModifiedDate ? file.lastModifiedDate.toLocaleDateString() :\n",
              "                                    'n/a'} - `));\n",
              "    const percent = span('0% done');\n",
              "    li.appendChild(percent);\n",
              "\n",
              "    outputElement.appendChild(li);\n",
              "\n",
              "    const fileDataPromise = new Promise((resolve) => {\n",
              "      const reader = new FileReader();\n",
              "      reader.onload = (e) => {\n",
              "        resolve(e.target.result);\n",
              "      };\n",
              "      reader.readAsArrayBuffer(file);\n",
              "    });\n",
              "    // Wait for the data to be ready.\n",
              "    let fileData = yield {\n",
              "      promise: fileDataPromise,\n",
              "      response: {\n",
              "        action: 'continue',\n",
              "      }\n",
              "    };\n",
              "\n",
              "    // Use a chunked sending to avoid message size limits. See b/62115660.\n",
              "    let position = 0;\n",
              "    do {\n",
              "      const length = Math.min(fileData.byteLength - position, MAX_PAYLOAD_SIZE);\n",
              "      const chunk = new Uint8Array(fileData, position, length);\n",
              "      position += length;\n",
              "\n",
              "      const base64 = btoa(String.fromCharCode.apply(null, chunk));\n",
              "      yield {\n",
              "        response: {\n",
              "          action: 'append',\n",
              "          file: file.name,\n",
              "          data: base64,\n",
              "        },\n",
              "      };\n",
              "\n",
              "      let percentDone = fileData.byteLength === 0 ?\n",
              "          100 :\n",
              "          Math.round((position / fileData.byteLength) * 100);\n",
              "      percent.textContent = `${percentDone}% done`;\n",
              "\n",
              "    } while (position < fileData.byteLength);\n",
              "  }\n",
              "\n",
              "  // All done.\n",
              "  yield {\n",
              "    response: {\n",
              "      action: 'complete',\n",
              "    }\n",
              "  };\n",
              "}\n",
              "\n",
              "scope.google = scope.google || {};\n",
              "scope.google.colab = scope.google.colab || {};\n",
              "scope.google.colab._files = {\n",
              "  _uploadFiles,\n",
              "  _uploadFilesContinue,\n",
              "};\n",
              "})(self);\n",
              "</script> "
            ]
          },
          "metadata": {}
        },
        {
          "output_type": "stream",
          "name": "stdout",
          "text": [
            "Saving rosalind_dna.txt to rosalind_dna.txt\n",
            "227 218 266 253\n"
          ]
        }
      ]
    },
    {
      "cell_type": "markdown",
      "source": [
        "**P19.2 – Rework word count using count() on unseen words**"
      ],
      "metadata": {
        "id": "aQgWTs4KrTwA"
      }
    },
    {
      "cell_type": "code",
      "source": [
        "with open(\"practice_5.txt\", \"r\") as f:\n",
        "    text = f.read()\n",
        "words = text.split()\n",
        "\n",
        "counts = {}\n",
        "for w in words:\n",
        "    if w not in counts:\n",
        "        counts[w] = words.count(w)   # only count when first seen\n",
        "for w, c in counts.items():\n",
        "    print(w, c)\n"
      ],
      "metadata": {
        "id": "9zKF7645rWLZ"
      },
      "execution_count": null,
      "outputs": []
    },
    {
      "cell_type": "markdown",
      "source": [
        "**P20. Installing Biopython**"
      ],
      "metadata": {
        "id": "99NR71surZDK"
      }
    },
    {
      "cell_type": "markdown",
      "source": [
        "**P20.1**"
      ],
      "metadata": {
        "id": "TQueKuWOrcYM"
      }
    },
    {
      "cell_type": "code",
      "source": [
        "!pip install biopython\n",
        "import Bio\n",
        "from Bio.Seq import Seq\n",
        "print(\"Biopython OK. Version:\", Bio.__version__)\n",
        "print(\"Seq test:\", Seq(\"AGTAC\").complement())\n"
      ],
      "metadata": {
        "colab": {
          "base_uri": "https://localhost:8080/"
        },
        "id": "9Js0C228rZ7O",
        "outputId": "bb003c73-8af5-4d46-ddba-4b226308a74f"
      },
      "execution_count": null,
      "outputs": [
        {
          "output_type": "stream",
          "name": "stdout",
          "text": [
            "Requirement already satisfied: biopython in /usr/local/lib/python3.12/dist-packages (1.85)\n",
            "Requirement already satisfied: numpy in /usr/local/lib/python3.12/dist-packages (from biopython) (2.0.2)\n",
            "Biopython OK. Version: 1.85\n",
            "Seq test: TCATG\n"
          ]
        }
      ]
    },
    {
      "cell_type": "markdown",
      "source": [
        "**P21. Seq() – Sequence Objects**"
      ],
      "metadata": {
        "id": "iUqyUWlHrjG5"
      }
    },
    {
      "cell_type": "markdown",
      "source": [
        "**P21.1 – Rosalind #7 (Transcribing DNA into RNA)**"
      ],
      "metadata": {
        "id": "6vXMoU2Prmp3"
      }
    },
    {
      "cell_type": "code",
      "source": [
        "from Bio.Seq import Seq\n",
        "from google.colab import files\n",
        "uploaded = files.upload()  # pick your practice.txt# dna.txt contains one DNA string\n",
        "with open(\"rna.txt\", \"r\") as f:\n",
        "    dna= Seq(f.read().strip())\n",
        "\n",
        "rna = dna.transcribe()  # T->U\n",
        "print(rna)"
      ],
      "metadata": {
        "colab": {
          "base_uri": "https://localhost:8080/",
          "height": 106
        },
        "id": "mOPzlp8qrfa-",
        "outputId": "e5f62fb0-c44e-4bcb-9fe3-7542730c6dcd"
      },
      "execution_count": null,
      "outputs": [
        {
          "output_type": "display_data",
          "data": {
            "text/plain": [
              "<IPython.core.display.HTML object>"
            ],
            "text/html": [
              "\n",
              "     <input type=\"file\" id=\"files-895caf8b-7bbe-4657-8e02-54a1614d617d\" name=\"files[]\" multiple disabled\n",
              "        style=\"border:none\" />\n",
              "     <output id=\"result-895caf8b-7bbe-4657-8e02-54a1614d617d\">\n",
              "      Upload widget is only available when the cell has been executed in the\n",
              "      current browser session. Please rerun this cell to enable.\n",
              "      </output>\n",
              "      <script>// Copyright 2017 Google LLC\n",
              "//\n",
              "// Licensed under the Apache License, Version 2.0 (the \"License\");\n",
              "// you may not use this file except in compliance with the License.\n",
              "// You may obtain a copy of the License at\n",
              "//\n",
              "//      http://www.apache.org/licenses/LICENSE-2.0\n",
              "//\n",
              "// Unless required by applicable law or agreed to in writing, software\n",
              "// distributed under the License is distributed on an \"AS IS\" BASIS,\n",
              "// WITHOUT WARRANTIES OR CONDITIONS OF ANY KIND, either express or implied.\n",
              "// See the License for the specific language governing permissions and\n",
              "// limitations under the License.\n",
              "\n",
              "/**\n",
              " * @fileoverview Helpers for google.colab Python module.\n",
              " */\n",
              "(function(scope) {\n",
              "function span(text, styleAttributes = {}) {\n",
              "  const element = document.createElement('span');\n",
              "  element.textContent = text;\n",
              "  for (const key of Object.keys(styleAttributes)) {\n",
              "    element.style[key] = styleAttributes[key];\n",
              "  }\n",
              "  return element;\n",
              "}\n",
              "\n",
              "// Max number of bytes which will be uploaded at a time.\n",
              "const MAX_PAYLOAD_SIZE = 100 * 1024;\n",
              "\n",
              "function _uploadFiles(inputId, outputId) {\n",
              "  const steps = uploadFilesStep(inputId, outputId);\n",
              "  const outputElement = document.getElementById(outputId);\n",
              "  // Cache steps on the outputElement to make it available for the next call\n",
              "  // to uploadFilesContinue from Python.\n",
              "  outputElement.steps = steps;\n",
              "\n",
              "  return _uploadFilesContinue(outputId);\n",
              "}\n",
              "\n",
              "// This is roughly an async generator (not supported in the browser yet),\n",
              "// where there are multiple asynchronous steps and the Python side is going\n",
              "// to poll for completion of each step.\n",
              "// This uses a Promise to block the python side on completion of each step,\n",
              "// then passes the result of the previous step as the input to the next step.\n",
              "function _uploadFilesContinue(outputId) {\n",
              "  const outputElement = document.getElementById(outputId);\n",
              "  const steps = outputElement.steps;\n",
              "\n",
              "  const next = steps.next(outputElement.lastPromiseValue);\n",
              "  return Promise.resolve(next.value.promise).then((value) => {\n",
              "    // Cache the last promise value to make it available to the next\n",
              "    // step of the generator.\n",
              "    outputElement.lastPromiseValue = value;\n",
              "    return next.value.response;\n",
              "  });\n",
              "}\n",
              "\n",
              "/**\n",
              " * Generator function which is called between each async step of the upload\n",
              " * process.\n",
              " * @param {string} inputId Element ID of the input file picker element.\n",
              " * @param {string} outputId Element ID of the output display.\n",
              " * @return {!Iterable<!Object>} Iterable of next steps.\n",
              " */\n",
              "function* uploadFilesStep(inputId, outputId) {\n",
              "  const inputElement = document.getElementById(inputId);\n",
              "  inputElement.disabled = false;\n",
              "\n",
              "  const outputElement = document.getElementById(outputId);\n",
              "  outputElement.innerHTML = '';\n",
              "\n",
              "  const pickedPromise = new Promise((resolve) => {\n",
              "    inputElement.addEventListener('change', (e) => {\n",
              "      resolve(e.target.files);\n",
              "    });\n",
              "  });\n",
              "\n",
              "  const cancel = document.createElement('button');\n",
              "  inputElement.parentElement.appendChild(cancel);\n",
              "  cancel.textContent = 'Cancel upload';\n",
              "  const cancelPromise = new Promise((resolve) => {\n",
              "    cancel.onclick = () => {\n",
              "      resolve(null);\n",
              "    };\n",
              "  });\n",
              "\n",
              "  // Wait for the user to pick the files.\n",
              "  const files = yield {\n",
              "    promise: Promise.race([pickedPromise, cancelPromise]),\n",
              "    response: {\n",
              "      action: 'starting',\n",
              "    }\n",
              "  };\n",
              "\n",
              "  cancel.remove();\n",
              "\n",
              "  // Disable the input element since further picks are not allowed.\n",
              "  inputElement.disabled = true;\n",
              "\n",
              "  if (!files) {\n",
              "    return {\n",
              "      response: {\n",
              "        action: 'complete',\n",
              "      }\n",
              "    };\n",
              "  }\n",
              "\n",
              "  for (const file of files) {\n",
              "    const li = document.createElement('li');\n",
              "    li.append(span(file.name, {fontWeight: 'bold'}));\n",
              "    li.append(span(\n",
              "        `(${file.type || 'n/a'}) - ${file.size} bytes, ` +\n",
              "        `last modified: ${\n",
              "            file.lastModifiedDate ? file.lastModifiedDate.toLocaleDateString() :\n",
              "                                    'n/a'} - `));\n",
              "    const percent = span('0% done');\n",
              "    li.appendChild(percent);\n",
              "\n",
              "    outputElement.appendChild(li);\n",
              "\n",
              "    const fileDataPromise = new Promise((resolve) => {\n",
              "      const reader = new FileReader();\n",
              "      reader.onload = (e) => {\n",
              "        resolve(e.target.result);\n",
              "      };\n",
              "      reader.readAsArrayBuffer(file);\n",
              "    });\n",
              "    // Wait for the data to be ready.\n",
              "    let fileData = yield {\n",
              "      promise: fileDataPromise,\n",
              "      response: {\n",
              "        action: 'continue',\n",
              "      }\n",
              "    };\n",
              "\n",
              "    // Use a chunked sending to avoid message size limits. See b/62115660.\n",
              "    let position = 0;\n",
              "    do {\n",
              "      const length = Math.min(fileData.byteLength - position, MAX_PAYLOAD_SIZE);\n",
              "      const chunk = new Uint8Array(fileData, position, length);\n",
              "      position += length;\n",
              "\n",
              "      const base64 = btoa(String.fromCharCode.apply(null, chunk));\n",
              "      yield {\n",
              "        response: {\n",
              "          action: 'append',\n",
              "          file: file.name,\n",
              "          data: base64,\n",
              "        },\n",
              "      };\n",
              "\n",
              "      let percentDone = fileData.byteLength === 0 ?\n",
              "          100 :\n",
              "          Math.round((position / fileData.byteLength) * 100);\n",
              "      percent.textContent = `${percentDone}% done`;\n",
              "\n",
              "    } while (position < fileData.byteLength);\n",
              "  }\n",
              "\n",
              "  // All done.\n",
              "  yield {\n",
              "    response: {\n",
              "      action: 'complete',\n",
              "    }\n",
              "  };\n",
              "}\n",
              "\n",
              "scope.google = scope.google || {};\n",
              "scope.google.colab = scope.google.colab || {};\n",
              "scope.google.colab._files = {\n",
              "  _uploadFiles,\n",
              "  _uploadFilesContinue,\n",
              "};\n",
              "})(self);\n",
              "</script> "
            ]
          },
          "metadata": {}
        },
        {
          "output_type": "stream",
          "name": "stdout",
          "text": [
            "Saving rna.txt to rna (1).txt\n",
            "AGCCUCAAUACCAGAGCGUUCUACCAACUCUUCGCUUUGAAUGUGAUCAGAGAGGACGUAGCCGGCCGGCACGUGAUUAGCCAUCGAUCAUUCUCGGUUUUGCAACGAAAAAUGGACGGCGCUCGUUUCCUAAUACCUGAAAUUGAAAGAUAUCUUAGGCUAACGUCACCAAUUACCGUUCAAAUAUCUCGCUAAUGCGCCUGCAUCGUCGGAAUUUGCUGUUCUUGUCGGACAUAUGGUCACCUCGUCUUAUGGUGUCAACACCCGGUACCGAGUGAAUUAACGCCUCGGCGCUAUUACAUUGGAUCCCGUGUGCACCAGGGUGCGGAGUUGCGAGCCGCAUACUUGAUGGAUUUCGCUACUCAUGGGCACCAACGCCGGAAGGCGACGAUAUGGUACGUAACAUGCAAGCACGAGGCAGAGACAACAUUUACAUACAAUCGCGGGCAAUUGACUACACGCAAAAGUGUCGACUUUUCCUCGUUUACUCAGGACCAAAGCACAUCUACUCUCAUCGAGAGCCGCGCAUCCGCAAUGUCUAACCCAGGCUUCACAGGGGGGCAGACGCAUCGCGAGUACUUCGGCGGCGACAUGACUGAAUCACUCACGGGGAAGGCUUGCACCCCGCGUGGAUCCACGAAUGAGACCUCCAUCGAUGAAUCAGAAUAUUUGCCGACUACACCAUGAUGUCGGUGGGAUUAUUUACAUAGUCCAAGGGCUAUAGCUUCCUUGAGUAUGAACCAAAUCAGUUUGUAUUAGAGAAGUCUUGGAAUGCUGCAUUAUCUAGUAGUUUGGCCGCCACCAGGCUCGAACAAAUUCCAAAGCCCCCACACUAUAGCUCGGCGACGGCGAAUCGCGGUCGUUAGUAACUAUCAAGCCUAACCGUUCCUAUUCCCGGCCCAACCCGAUAGAACGUGUUCGAGAAGACCCAAGUGUCGUGACUCGAUCCCCUCGGGGAGUUGAG\n"
          ]
        }
      ]
    },
    {
      "cell_type": "markdown",
      "source": [
        "**P21.2 – Rosalind #8 (Translating RNA into Protein)**"
      ],
      "metadata": {
        "id": "cgzQ-5MBrrGX"
      }
    },
    {
      "cell_type": "code",
      "source": [
        "from Bio.Seq import Seq\n",
        "from google.colab import files\n",
        "uploaded = files.upload()\n",
        "with open(\"rosalind_prot.txt\", \"r\") as f:\n",
        "    rna = Seq(f.read().strip())\n",
        "\n",
        "protein = rna.translate(to_stop=True)  # stop at first stop codon\n",
        "print(protein)\n"
      ],
      "metadata": {
        "colab": {
          "base_uri": "https://localhost:8080/",
          "height": 106
        },
        "id": "Z7RMpwHrrtbX",
        "outputId": "a2640cfc-0566-4250-f4af-bde3a7945897"
      },
      "execution_count": null,
      "outputs": [
        {
          "output_type": "display_data",
          "data": {
            "text/plain": [
              "<IPython.core.display.HTML object>"
            ],
            "text/html": [
              "\n",
              "     <input type=\"file\" id=\"files-a12eef26-5fea-48d0-aeed-0be912bead89\" name=\"files[]\" multiple disabled\n",
              "        style=\"border:none\" />\n",
              "     <output id=\"result-a12eef26-5fea-48d0-aeed-0be912bead89\">\n",
              "      Upload widget is only available when the cell has been executed in the\n",
              "      current browser session. Please rerun this cell to enable.\n",
              "      </output>\n",
              "      <script>// Copyright 2017 Google LLC\n",
              "//\n",
              "// Licensed under the Apache License, Version 2.0 (the \"License\");\n",
              "// you may not use this file except in compliance with the License.\n",
              "// You may obtain a copy of the License at\n",
              "//\n",
              "//      http://www.apache.org/licenses/LICENSE-2.0\n",
              "//\n",
              "// Unless required by applicable law or agreed to in writing, software\n",
              "// distributed under the License is distributed on an \"AS IS\" BASIS,\n",
              "// WITHOUT WARRANTIES OR CONDITIONS OF ANY KIND, either express or implied.\n",
              "// See the License for the specific language governing permissions and\n",
              "// limitations under the License.\n",
              "\n",
              "/**\n",
              " * @fileoverview Helpers for google.colab Python module.\n",
              " */\n",
              "(function(scope) {\n",
              "function span(text, styleAttributes = {}) {\n",
              "  const element = document.createElement('span');\n",
              "  element.textContent = text;\n",
              "  for (const key of Object.keys(styleAttributes)) {\n",
              "    element.style[key] = styleAttributes[key];\n",
              "  }\n",
              "  return element;\n",
              "}\n",
              "\n",
              "// Max number of bytes which will be uploaded at a time.\n",
              "const MAX_PAYLOAD_SIZE = 100 * 1024;\n",
              "\n",
              "function _uploadFiles(inputId, outputId) {\n",
              "  const steps = uploadFilesStep(inputId, outputId);\n",
              "  const outputElement = document.getElementById(outputId);\n",
              "  // Cache steps on the outputElement to make it available for the next call\n",
              "  // to uploadFilesContinue from Python.\n",
              "  outputElement.steps = steps;\n",
              "\n",
              "  return _uploadFilesContinue(outputId);\n",
              "}\n",
              "\n",
              "// This is roughly an async generator (not supported in the browser yet),\n",
              "// where there are multiple asynchronous steps and the Python side is going\n",
              "// to poll for completion of each step.\n",
              "// This uses a Promise to block the python side on completion of each step,\n",
              "// then passes the result of the previous step as the input to the next step.\n",
              "function _uploadFilesContinue(outputId) {\n",
              "  const outputElement = document.getElementById(outputId);\n",
              "  const steps = outputElement.steps;\n",
              "\n",
              "  const next = steps.next(outputElement.lastPromiseValue);\n",
              "  return Promise.resolve(next.value.promise).then((value) => {\n",
              "    // Cache the last promise value to make it available to the next\n",
              "    // step of the generator.\n",
              "    outputElement.lastPromiseValue = value;\n",
              "    return next.value.response;\n",
              "  });\n",
              "}\n",
              "\n",
              "/**\n",
              " * Generator function which is called between each async step of the upload\n",
              " * process.\n",
              " * @param {string} inputId Element ID of the input file picker element.\n",
              " * @param {string} outputId Element ID of the output display.\n",
              " * @return {!Iterable<!Object>} Iterable of next steps.\n",
              " */\n",
              "function* uploadFilesStep(inputId, outputId) {\n",
              "  const inputElement = document.getElementById(inputId);\n",
              "  inputElement.disabled = false;\n",
              "\n",
              "  const outputElement = document.getElementById(outputId);\n",
              "  outputElement.innerHTML = '';\n",
              "\n",
              "  const pickedPromise = new Promise((resolve) => {\n",
              "    inputElement.addEventListener('change', (e) => {\n",
              "      resolve(e.target.files);\n",
              "    });\n",
              "  });\n",
              "\n",
              "  const cancel = document.createElement('button');\n",
              "  inputElement.parentElement.appendChild(cancel);\n",
              "  cancel.textContent = 'Cancel upload';\n",
              "  const cancelPromise = new Promise((resolve) => {\n",
              "    cancel.onclick = () => {\n",
              "      resolve(null);\n",
              "    };\n",
              "  });\n",
              "\n",
              "  // Wait for the user to pick the files.\n",
              "  const files = yield {\n",
              "    promise: Promise.race([pickedPromise, cancelPromise]),\n",
              "    response: {\n",
              "      action: 'starting',\n",
              "    }\n",
              "  };\n",
              "\n",
              "  cancel.remove();\n",
              "\n",
              "  // Disable the input element since further picks are not allowed.\n",
              "  inputElement.disabled = true;\n",
              "\n",
              "  if (!files) {\n",
              "    return {\n",
              "      response: {\n",
              "        action: 'complete',\n",
              "      }\n",
              "    };\n",
              "  }\n",
              "\n",
              "  for (const file of files) {\n",
              "    const li = document.createElement('li');\n",
              "    li.append(span(file.name, {fontWeight: 'bold'}));\n",
              "    li.append(span(\n",
              "        `(${file.type || 'n/a'}) - ${file.size} bytes, ` +\n",
              "        `last modified: ${\n",
              "            file.lastModifiedDate ? file.lastModifiedDate.toLocaleDateString() :\n",
              "                                    'n/a'} - `));\n",
              "    const percent = span('0% done');\n",
              "    li.appendChild(percent);\n",
              "\n",
              "    outputElement.appendChild(li);\n",
              "\n",
              "    const fileDataPromise = new Promise((resolve) => {\n",
              "      const reader = new FileReader();\n",
              "      reader.onload = (e) => {\n",
              "        resolve(e.target.result);\n",
              "      };\n",
              "      reader.readAsArrayBuffer(file);\n",
              "    });\n",
              "    // Wait for the data to be ready.\n",
              "    let fileData = yield {\n",
              "      promise: fileDataPromise,\n",
              "      response: {\n",
              "        action: 'continue',\n",
              "      }\n",
              "    };\n",
              "\n",
              "    // Use a chunked sending to avoid message size limits. See b/62115660.\n",
              "    let position = 0;\n",
              "    do {\n",
              "      const length = Math.min(fileData.byteLength - position, MAX_PAYLOAD_SIZE);\n",
              "      const chunk = new Uint8Array(fileData, position, length);\n",
              "      position += length;\n",
              "\n",
              "      const base64 = btoa(String.fromCharCode.apply(null, chunk));\n",
              "      yield {\n",
              "        response: {\n",
              "          action: 'append',\n",
              "          file: file.name,\n",
              "          data: base64,\n",
              "        },\n",
              "      };\n",
              "\n",
              "      let percentDone = fileData.byteLength === 0 ?\n",
              "          100 :\n",
              "          Math.round((position / fileData.byteLength) * 100);\n",
              "      percent.textContent = `${percentDone}% done`;\n",
              "\n",
              "    } while (position < fileData.byteLength);\n",
              "  }\n",
              "\n",
              "  // All done.\n",
              "  yield {\n",
              "    response: {\n",
              "      action: 'complete',\n",
              "    }\n",
              "  };\n",
              "}\n",
              "\n",
              "scope.google = scope.google || {};\n",
              "scope.google.colab = scope.google.colab || {};\n",
              "scope.google.colab._files = {\n",
              "  _uploadFiles,\n",
              "  _uploadFilesContinue,\n",
              "};\n",
              "})(self);\n",
              "</script> "
            ]
          },
          "metadata": {}
        },
        {
          "output_type": "stream",
          "name": "stdout",
          "text": [
            "Saving rosalind_prot.txt to rosalind_prot.txt\n",
            "MVSLRVTAICSPDTCSHGRIRTHCRCKTLEATILAKLVHAVIVHKVRIVETSAFSLNSLYMKSCSRVCDSSIACHPGLIPTADCRNQDLLQRWFRINLNSLLPIIREQGRYDTCARPGEAVPFSCTLGGYRVVPAFPVPAVVHWIIPSSLARLEARPLTSDSFDVENFLALMIQLPDLNFPRGVRDKNGQNWAASYRSKVSSTNFLPDFLKSGRCCQNKYTARLGLDSTAIMTYIEFTVRIPYYNPSFHRARSCLVSDGKPMRGRSELKGRTNIGPCRRPNLDRILYGSSYAIKLGYVYVPDTCKSFCLTNFDLLYSPALDFTKRFQTGPIHELAHTGARVAYTGSLSVSPPSWCGALGWSLCEPRVFPAYTWYSSRVAQGYDYRNDRLRTSMLGDVTVTTTQGHPQHGRACLGPLGVCGFVEIDSPGQFSMKDYWNYESLRHVVWYAFYEFVPQPRKRAAIAYLSGYPPVSAASVIVCLGNQIQRVVLPAYFETQADLWLYKDVLNRGTRAPRTLSGAYFNVTSRALVQLRTGMHTSPLANSNDDRIEGRACTFYYAADSLPSPFGPGIRGPLLLFQTVSSSSTSAVCRNRPSLVPVAAQSRQMGTLLSRWGRQRLAVKRNSCLMGVSVRGQGEQNGNRTDFRPYPLKTKSRTLTALCLPNGVHTHGLSISEEKLVIYTCGPEEPLDGQRHLKPNPLSYRMSGLPDSFMVPVMIPTDINLTPHPLLCASVVKGAQGSIWSDKKQEFGFRPSAPGGLRGPYSSTIKEGRVGLYVPYFGTTIREYICPIAVPGIGLCRLASACLRPPSTTVGMYAVNYSWARLPRSLRFYRNAEFIKYTHRLVSCCQRAQPNPLVCQSENCSYLLGLILNQGLRSTSHVGSTVSCPLPSLINPRSSTQHKCGSSRTPIYGARTEASDNVWHHCILATSRRKDRPRFPRVPTTNKTYGRITACYITTGCPVVIVRCRVRPSSSQLFEFEKSHASSSNGAVSYPININAHGVNAFYDAQVARCQFRPVPCLFPLTLYRAVRFAGERNVGLFIAILKTWRGPYRVRSKSDCAKRSIYLCSDDPQLARTPLVEYQSILPSVAEVWRVPRLYLTVPGCRSRHACAFSRPQSRRQLDTWPERGRYVCYYQNPPAKQPQVPEFGKRLDCREPPPSSDSSDSSPVSVVHFLRTLMTKIRTIYLPNSILGTVITGSVALLDRHNQLTSGTTQCLMVEPSHELSIYLYVILRTCPNTKMIPYIRATREWGRLSAPWAMRSQPDKPLNTECPSAKRAKINYNSHRIKAYERTPLCSQHRPGAWATTGAHYPLRTGYKCRFTSLIACGTSLAQPTALPGLNINTCHVGTRMVCHLIEYNSLCKFIQRPTALYNPIKGIKFVNLCRTVRIVGTHARAKSAQARRFAFVQCRSPQLQTRLPQSLGSGTGGERARTGNKRVARRSLRQKLFNKPVGRSRGPYFLRGGASHYSNRAVARFRLVGPTWHLTDGGFLISRDPPLTIRVIGRVSRRWNSFTNAGQLSMCPSGTPDSKLSRTLIQFLRMSKTSALGSYNLPSPLPYYSTRPSNLDHVICTRKSIRDTPFCLLYWGPVSIAVAVVMLPRASQEDTNMCNSLVKQFRLGIAMIRFLCEVGSRSFVLWEAGAYLQRSVTPSNSTAFPRVLTADLRSHVLRLRAPRRAKALYSNGVVTSGKVPSALRPALNLLQTRSTINVILLVRKIHATRFALSGLFNGDYFKNRMVHVNYPDANHTPVECYTGLQTTQFYARCQISLAGRENGPQDPIRIHNFCPIANPPAAFITRHPGFHTGLNVTEPVVSHGGKGPRFSGSVLLRLDDILFCGREFGAPEVIRPRVVISQARGPDRYVPRTEGPSRAEGLIKMVREDRCASCKISNLPGSISPQAFWSNTHNDRALVTTTGTLVRDKYLTVVSSNNVNTTIVSDCCFEVSSWSIGRPPLLPDFRDDSGIQAQREKISLVGSWRAYHTDTVFVSLSLSTRIFRIRILGPPVIRLGNSLVPRSSNNGPTCKVASLRILTWVYQAGDDCGPHYKLNWRVGARHQLSAILIDVHTDYALATYFPGGHRRSHQSDICTMYTAGLEHQGINVPKSLPPWGSISPLYPCRHVHVYATTKTIVKTLSDGDTCAVQVLCGISGCTRLKSVVSATPIVTLENGVVLETGYARNLDLGEIFAPFNGALAATLFTRCRRHMAQCGLTRSKLPSTFAFTSFGIPDYCDKSLTRSPLLRAVRQLSTENQRDKLCTTIQGVYTQAIRVYSNRGFNNDRIGPCPKSTPQDLQQISSPPCVYVFPLPHFRLIAVLEEKPGSHSTSNSVLPDVCNTLVVRHVTVTEASVNELKQPWGGLINARPTCTAHELAGTLPWFRWCLHVQQTIWSIRLIAGEESGRIRILFRLSAHGPQLAVGLASLSSPTALFNQRGRETVLNPQSTLLRFISRFKIGLALPCLTAARYFFLDAWRRRYSIIWDNCVFFSESTTGGEGPQVATCASTLILHGIGRDGLERVRHSRIHSLSLTSAFALFNYISLSDWYLVRRSVEMSCYSQLKHVSLREYLAENVIGNNVEQLAHGDRQANKPPAPSSITLFRSLVQSSRPGRKNITKVAETDRQCICQHETGRSRRASLSDPMLLGTTMNRKLHNAKLRATITDGVPIVRRELIQRHPLFLAILVLSLHGRDLTARAHDRLGRHR\n"
          ]
        }
      ]
    },
    {
      "cell_type": "markdown",
      "source": [
        "**P22. SeqIO.parse() – Reading FASTA**"
      ],
      "metadata": {
        "id": "kyiQ83WQrwAM"
      }
    },
    {
      "cell_type": "markdown",
      "source": [
        "**P22.1 – Print IDs for each FASTA record**"
      ],
      "metadata": {
        "id": "iBguLo__rxc6"
      }
    },
    {
      "cell_type": "code",
      "source": [
        "from Bio.SeqIO import parse\n",
        "from google.colab import files\n",
        "uploaded = files.upload()\n",
        "for rec in parse(\"rosalind_gc.txt\", \"fasta\"):\n",
        "    print(rec.id)          # ID\n",
        "    # print(len(rec.seq))  # length if you want\n"
      ],
      "metadata": {
        "id": "2UPPvF3Xr1t0",
        "colab": {
          "base_uri": "https://localhost:8080/",
          "height": 205
        },
        "outputId": "9aabcb3f-ef3e-46e0-d368-2bbf646de1f0"
      },
      "execution_count": 41,
      "outputs": [
        {
          "output_type": "display_data",
          "data": {
            "text/plain": [
              "<IPython.core.display.HTML object>"
            ],
            "text/html": [
              "\n",
              "     <input type=\"file\" id=\"files-f41a9829-131a-4e2b-82a9-c2dcf2042327\" name=\"files[]\" multiple disabled\n",
              "        style=\"border:none\" />\n",
              "     <output id=\"result-f41a9829-131a-4e2b-82a9-c2dcf2042327\">\n",
              "      Upload widget is only available when the cell has been executed in the\n",
              "      current browser session. Please rerun this cell to enable.\n",
              "      </output>\n",
              "      <script>// Copyright 2017 Google LLC\n",
              "//\n",
              "// Licensed under the Apache License, Version 2.0 (the \"License\");\n",
              "// you may not use this file except in compliance with the License.\n",
              "// You may obtain a copy of the License at\n",
              "//\n",
              "//      http://www.apache.org/licenses/LICENSE-2.0\n",
              "//\n",
              "// Unless required by applicable law or agreed to in writing, software\n",
              "// distributed under the License is distributed on an \"AS IS\" BASIS,\n",
              "// WITHOUT WARRANTIES OR CONDITIONS OF ANY KIND, either express or implied.\n",
              "// See the License for the specific language governing permissions and\n",
              "// limitations under the License.\n",
              "\n",
              "/**\n",
              " * @fileoverview Helpers for google.colab Python module.\n",
              " */\n",
              "(function(scope) {\n",
              "function span(text, styleAttributes = {}) {\n",
              "  const element = document.createElement('span');\n",
              "  element.textContent = text;\n",
              "  for (const key of Object.keys(styleAttributes)) {\n",
              "    element.style[key] = styleAttributes[key];\n",
              "  }\n",
              "  return element;\n",
              "}\n",
              "\n",
              "// Max number of bytes which will be uploaded at a time.\n",
              "const MAX_PAYLOAD_SIZE = 100 * 1024;\n",
              "\n",
              "function _uploadFiles(inputId, outputId) {\n",
              "  const steps = uploadFilesStep(inputId, outputId);\n",
              "  const outputElement = document.getElementById(outputId);\n",
              "  // Cache steps on the outputElement to make it available for the next call\n",
              "  // to uploadFilesContinue from Python.\n",
              "  outputElement.steps = steps;\n",
              "\n",
              "  return _uploadFilesContinue(outputId);\n",
              "}\n",
              "\n",
              "// This is roughly an async generator (not supported in the browser yet),\n",
              "// where there are multiple asynchronous steps and the Python side is going\n",
              "// to poll for completion of each step.\n",
              "// This uses a Promise to block the python side on completion of each step,\n",
              "// then passes the result of the previous step as the input to the next step.\n",
              "function _uploadFilesContinue(outputId) {\n",
              "  const outputElement = document.getElementById(outputId);\n",
              "  const steps = outputElement.steps;\n",
              "\n",
              "  const next = steps.next(outputElement.lastPromiseValue);\n",
              "  return Promise.resolve(next.value.promise).then((value) => {\n",
              "    // Cache the last promise value to make it available to the next\n",
              "    // step of the generator.\n",
              "    outputElement.lastPromiseValue = value;\n",
              "    return next.value.response;\n",
              "  });\n",
              "}\n",
              "\n",
              "/**\n",
              " * Generator function which is called between each async step of the upload\n",
              " * process.\n",
              " * @param {string} inputId Element ID of the input file picker element.\n",
              " * @param {string} outputId Element ID of the output display.\n",
              " * @return {!Iterable<!Object>} Iterable of next steps.\n",
              " */\n",
              "function* uploadFilesStep(inputId, outputId) {\n",
              "  const inputElement = document.getElementById(inputId);\n",
              "  inputElement.disabled = false;\n",
              "\n",
              "  const outputElement = document.getElementById(outputId);\n",
              "  outputElement.innerHTML = '';\n",
              "\n",
              "  const pickedPromise = new Promise((resolve) => {\n",
              "    inputElement.addEventListener('change', (e) => {\n",
              "      resolve(e.target.files);\n",
              "    });\n",
              "  });\n",
              "\n",
              "  const cancel = document.createElement('button');\n",
              "  inputElement.parentElement.appendChild(cancel);\n",
              "  cancel.textContent = 'Cancel upload';\n",
              "  const cancelPromise = new Promise((resolve) => {\n",
              "    cancel.onclick = () => {\n",
              "      resolve(null);\n",
              "    };\n",
              "  });\n",
              "\n",
              "  // Wait for the user to pick the files.\n",
              "  const files = yield {\n",
              "    promise: Promise.race([pickedPromise, cancelPromise]),\n",
              "    response: {\n",
              "      action: 'starting',\n",
              "    }\n",
              "  };\n",
              "\n",
              "  cancel.remove();\n",
              "\n",
              "  // Disable the input element since further picks are not allowed.\n",
              "  inputElement.disabled = true;\n",
              "\n",
              "  if (!files) {\n",
              "    return {\n",
              "      response: {\n",
              "        action: 'complete',\n",
              "      }\n",
              "    };\n",
              "  }\n",
              "\n",
              "  for (const file of files) {\n",
              "    const li = document.createElement('li');\n",
              "    li.append(span(file.name, {fontWeight: 'bold'}));\n",
              "    li.append(span(\n",
              "        `(${file.type || 'n/a'}) - ${file.size} bytes, ` +\n",
              "        `last modified: ${\n",
              "            file.lastModifiedDate ? file.lastModifiedDate.toLocaleDateString() :\n",
              "                                    'n/a'} - `));\n",
              "    const percent = span('0% done');\n",
              "    li.appendChild(percent);\n",
              "\n",
              "    outputElement.appendChild(li);\n",
              "\n",
              "    const fileDataPromise = new Promise((resolve) => {\n",
              "      const reader = new FileReader();\n",
              "      reader.onload = (e) => {\n",
              "        resolve(e.target.result);\n",
              "      };\n",
              "      reader.readAsArrayBuffer(file);\n",
              "    });\n",
              "    // Wait for the data to be ready.\n",
              "    let fileData = yield {\n",
              "      promise: fileDataPromise,\n",
              "      response: {\n",
              "        action: 'continue',\n",
              "      }\n",
              "    };\n",
              "\n",
              "    // Use a chunked sending to avoid message size limits. See b/62115660.\n",
              "    let position = 0;\n",
              "    do {\n",
              "      const length = Math.min(fileData.byteLength - position, MAX_PAYLOAD_SIZE);\n",
              "      const chunk = new Uint8Array(fileData, position, length);\n",
              "      position += length;\n",
              "\n",
              "      const base64 = btoa(String.fromCharCode.apply(null, chunk));\n",
              "      yield {\n",
              "        response: {\n",
              "          action: 'append',\n",
              "          file: file.name,\n",
              "          data: base64,\n",
              "        },\n",
              "      };\n",
              "\n",
              "      let percentDone = fileData.byteLength === 0 ?\n",
              "          100 :\n",
              "          Math.round((position / fileData.byteLength) * 100);\n",
              "      percent.textContent = `${percentDone}% done`;\n",
              "\n",
              "    } while (position < fileData.byteLength);\n",
              "  }\n",
              "\n",
              "  // All done.\n",
              "  yield {\n",
              "    response: {\n",
              "      action: 'complete',\n",
              "    }\n",
              "  };\n",
              "}\n",
              "\n",
              "scope.google = scope.google || {};\n",
              "scope.google.colab = scope.google.colab || {};\n",
              "scope.google.colab._files = {\n",
              "  _uploadFiles,\n",
              "  _uploadFilesContinue,\n",
              "};\n",
              "})(self);\n",
              "</script> "
            ]
          },
          "metadata": {}
        },
        {
          "output_type": "stream",
          "name": "stdout",
          "text": [
            "Saving rosalind_gc.txt to rosalind_gc.txt\n",
            "Rosalind_7967\n",
            "Rosalind_7825\n",
            "Rosalind_8626\n",
            "Rosalind_1042\n",
            "Rosalind_3187\n",
            "Rosalind_1644\n",
            "Rosalind_9719\n",
            "Rosalind_4295\n"
          ]
        }
      ]
    },
    {
      "cell_type": "markdown",
      "source": [
        "**P23. gc_fraction() – GC Content**"
      ],
      "metadata": {
        "id": "NiDOOSQqr32g"
      }
    },
    {
      "cell_type": "markdown",
      "source": [
        "**P23.1 – Print GC% for each FASTA record**"
      ],
      "metadata": {
        "id": "UwrAOcdPr6tH"
      }
    },
    {
      "cell_type": "code",
      "source": [
        "from Bio.SeqIO import parse\n",
        "from Bio.SeqUtils import gc_fraction\n",
        "\n",
        "for rec in parse(\"rosalind_gc.txt\", \"fasta\"):\n",
        "    print(rec.id, round(gc_fraction(str(rec.seq)) * 100, 6))\n"
      ],
      "metadata": {
        "id": "4dly08RVr77O",
        "colab": {
          "base_uri": "https://localhost:8080/"
        },
        "outputId": "92be4296-fa55-4590-bb05-f708e8365787"
      },
      "execution_count": 42,
      "outputs": [
        {
          "output_type": "stream",
          "name": "stdout",
          "text": [
            "Rosalind_7967 47.064882\n",
            "Rosalind_7825 49.622438\n",
            "Rosalind_8626 51.991614\n",
            "Rosalind_1042 52.312775\n",
            "Rosalind_3187 49.943246\n",
            "Rosalind_1644 48.307692\n",
            "Rosalind_9719 49.066002\n",
            "Rosalind_4295 47.977528\n"
          ]
        }
      ]
    },
    {
      "cell_type": "markdown",
      "source": [
        "**P23.2 – Rosalind #9 (Max GC Content)**"
      ],
      "metadata": {
        "id": "u9vwYbWDr-PI"
      }
    },
    {
      "cell_type": "code",
      "source": [
        "from Bio.SeqIO import parse\n",
        "from Bio.SeqUtils import gc_fraction\n",
        "\n",
        "best_id, best_gc = None, -1.0\n",
        "for rec in parse(\"rosalind_gc.txt\", \"fasta\"):\n",
        "    gc = gc_fraction(str(rec.seq))\n",
        "    if gc > best_gc:\n",
        "        best_gc, best_id = gc, rec.id\n",
        "\n",
        "print(best_id)\n",
        "print(round(best_gc * 100, 6))\n"
      ],
      "metadata": {
        "id": "zvw3OsChsBvH",
        "colab": {
          "base_uri": "https://localhost:8080/"
        },
        "outputId": "7091bef3-8ce5-4d1d-bbcd-09d3ec35183e"
      },
      "execution_count": 43,
      "outputs": [
        {
          "output_type": "stream",
          "name": "stdout",
          "text": [
            "Rosalind_1042\n",
            "52.312775\n"
          ]
        }
      ]
    }
  ]
}